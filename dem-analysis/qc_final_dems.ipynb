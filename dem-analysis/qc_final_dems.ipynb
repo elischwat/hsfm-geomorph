{
 "cells": [
  {
   "cell_type": "code",
   "execution_count": 1,
   "metadata": {},
   "outputs": [],
   "source": [
    "import glob\n",
    "import os\n",
    "from hsfm import utils"
   ]
  },
  {
   "cell_type": "code",
   "execution_count": 12,
   "metadata": {},
   "outputs": [
    {
     "data": {
      "text/plain": [
       "['/data2/elilouis/generate_ee_dems_baker/mixed_timesift/individual_clouds/67_9.0/dem.tif',\n",
       " '/data2/elilouis/generate_ee_dems_baker/mixed_timesift/individual_clouds/70_9.0/dem.tif',\n",
       " '/data2/elilouis/generate_ee_dems_baker/mixed_timesift/individual_clouds/74_8.0/dem.tif',\n",
       " '/data2/elilouis/generate_ee_dems_baker/mixed_timesift/individual_clouds/77_9.0/dem.tif',\n",
       " '/data2/elilouis/generate_ee_dems_baker/mixed_timesift/individual_clouds/79_10.0/dem.tif',\n",
       " '/data2/elilouis/generate_ee_dems_baker/mixed_timesift/individual_clouds/87_8.0/dem.tif',\n",
       " '/data2/elilouis/generate_ee_dems_baker/mixed_timesift/individual_clouds/90_9.0/dem.tif',\n",
       " '/data2/elilouis/generate_ee_dems_baker/mixed_timesift/individual_clouds/91_9.0/dem.tif']"
      ]
     },
     "execution_count": 12,
     "metadata": {},
     "output_type": "execute_result"
    }
   ],
   "source": [
    "sfm_dems = glob.glob(\"/data2/elilouis/generate_ee_dems_baker/mixed_timesift/individual_clouds/*/dem.tif\", recursive=True)\n",
    "sfm_dems"
   ]
  },
  {
   "cell_type": "code",
   "execution_count": 19,
   "metadata": {},
   "outputs": [],
   "source": [
    "reference_dem = '/data2/elilouis/hsfm-geomorph/data/reference_dem_highres/baker/raw_tifs/baker_2015/2015.tif'"
   ]
  },
  {
   "cell_type": "code",
   "execution_count": null,
   "metadata": {},
   "outputs": [
    {
     "name": "stdout",
     "output_type": "stream",
     "text": [
      "/data2/elilouis/generate_ee_dems_baker/mixed_timesift/individual_clouds/67_9.0/dem.tif\n",
      "\n",
      "/data2/elilouis/generate_ee_dems_baker/mixed_timesift/individual_clouds/91_9.0/dem.tif/final_dem_align\n",
      "dem_align.py /data2/elilouis/hsfm-geomorph/data/reference_dem_highres/baker/raw_tifs/baker_2015/2015.tif /data2/elilouis/generate_ee_dems_baker/mixed_timesift/individual_clouds/67_9.0/dem.tif -max_offset 100 -mode nuth -mask_list glaciers nlcd\n",
      "/data2/elilouis/generate_ee_dems_baker/mixed_timesift/individual_clouds/70_9.0/dem.tif\n",
      "\n",
      "/data2/elilouis/generate_ee_dems_baker/mixed_timesift/individual_clouds/91_9.0/dem.tif/final_dem_align\n",
      "dem_align.py /data2/elilouis/hsfm-geomorph/data/reference_dem_highres/baker/raw_tifs/baker_2015/2015.tif /data2/elilouis/generate_ee_dems_baker/mixed_timesift/individual_clouds/70_9.0/dem.tif -max_offset 100 -mode nuth -mask_list glaciers nlcd\n"
     ]
    }
   ],
   "source": [
    "for dem in sfm_dems:\n",
    "    output_directory = os.path.join(dem, 'final_dem_align')\n",
    "    print(dem)\n",
    "    print()\n",
    "    print(output_dir)\n",
    "    utils.dem_align_custom(\n",
    "        reference_dem,\n",
    "        dem,\n",
    "        output_directory,\n",
    "        mode='nuth',\n",
    "        max_offset=100,\n",
    "        verbose=False,\n",
    "        print_call=False,\n",
    "    )"
   ]
  },
  {
   "cell_type": "code",
   "execution_count": null,
   "metadata": {},
   "outputs": [],
   "source": []
  }
 ],
 "metadata": {
  "kernelspec": {
   "display_name": "Python 3",
   "language": "python",
   "name": "python3"
  },
  "language_info": {
   "codemirror_mode": {
    "name": "ipython",
    "version": 3
   },
   "file_extension": ".py",
   "mimetype": "text/x-python",
   "name": "python",
   "nbconvert_exporter": "python",
   "pygments_lexer": "ipython3",
   "version": "3.8.5"
  }
 },
 "nbformat": 4,
 "nbformat_minor": 4
}
