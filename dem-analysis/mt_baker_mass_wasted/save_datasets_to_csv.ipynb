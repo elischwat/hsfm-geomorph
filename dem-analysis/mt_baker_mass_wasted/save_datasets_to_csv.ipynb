{
 "cells": [
  {
   "cell_type": "code",
   "execution_count": 5,
   "metadata": {},
   "outputs": [],
   "source": [
    "import pandas as pd\n",
    "import os\n",
    "import glob"
   ]
  },
  {
   "cell_type": "markdown",
   "metadata": {},
   "source": [
    "# Case Study Volume Changes"
   ]
  },
  {
   "cell_type": "code",
   "execution_count": 8,
   "metadata": {},
   "outputs": [],
   "source": [
    "fluvial_pos_fn = \"/home/elilouis/hsfm-geomorph/dem-analysis/mt_baker_mass_wasted/outputs/fluvial_threshold_pos_dv_df\"\n",
    "fluvial_neg_fn = \"/home/elilouis/hsfm-geomorph/dem-analysis/mt_baker_mass_wasted/outputs/fluvial_threshold_neg_dv_df\"\n",
    "hillslope_pos_fn = \"/home/elilouis/hsfm-geomorph/dem-analysis/mt_baker_mass_wasted/outputs/hillslope_threshold_pos_dv_df\"\n",
    "hillslope_neg_fn = \"/home/elilouis/hsfm-geomorph/dem-analysis/mt_baker_mass_wasted/outputs/hillslope_threshold_neg_dv_df\""
   ]
  },
  {
   "cell_type": "code",
   "execution_count": 12,
   "metadata": {},
   "outputs": [],
   "source": [
    "fluvial_pos = pd.concat((pd.read_csv(file) for file in glob.glob(fluvial_pos_fn + \"/*.csv\")), ignore_index=True)\n",
    "fluvial_pos['gross type'] = 'positive'\n",
    "fluvial_neg = pd.concat((pd.read_csv(file) for file in glob.glob(fluvial_neg_fn + \"/*.csv\")), ignore_index=True)\n",
    "fluvial_neg['gross type'] = 'negative'\n",
    "hillslope_pos = pd.concat((pd.read_csv(file) for file in glob.glob(hillslope_pos_fn + \"/*.csv\")), ignore_index=True)\n",
    "hillslope_pos['gross type'] = 'positive'\n",
    "hillslope_neg = pd.concat((pd.read_csv(file) for file in glob.glob(hillslope_neg_fn + \"/*.csv\")), ignore_index=True)\n",
    "hillslope_neg['gross type'] = 'negative'"
   ]
  },
  {
   "cell_type": "code",
   "execution_count": 14,
   "metadata": {},
   "outputs": [],
   "source": [
    "combined_df = pd.concat([fluvial_pos, fluvial_neg, hillslope_pos, hillslope_neg])\n",
    "\n",
    "\n"
   ]
  },
  {
   "cell_type": "code",
   "execution_count": 22,
   "metadata": {},
   "outputs": [],
   "source": [
    "combined_df = combined_df[['valley', 'type', 'gross type', 'Annual Mass Wasted', \"Upper CI\", \"Lower CI\", 'index']]"
   ]
  },
  {
   "cell_type": "code",
   "execution_count": 28,
   "metadata": {},
   "outputs": [],
   "source": [
    "combined_df = combined_df.pivot(index=['valley', 'type', 'index'], columns='gross type').reset_index()"
   ]
  },
  {
   "cell_type": "code",
   "execution_count": 29,
   "metadata": {},
   "outputs": [],
   "source": [
    "combined_df.to_csv(\"/home/elilouis/case_study_volume_changes.csv\")"
   ]
  },
  {
   "cell_type": "code",
   "execution_count": null,
   "metadata": {},
   "outputs": [],
   "source": []
  }
 ],
 "metadata": {
  "kernelspec": {
   "display_name": "Python 3.9.2 ('xdem')",
   "language": "python",
   "name": "python3"
  },
  "language_info": {
   "codemirror_mode": {
    "name": "ipython",
    "version": 3
   },
   "file_extension": ".py",
   "mimetype": "text/x-python",
   "name": "python",
   "nbconvert_exporter": "python",
   "pygments_lexer": "ipython3",
   "version": "3.9.2"
  },
  "orig_nbformat": 4,
  "vscode": {
   "interpreter": {
    "hash": "22b7dc50fb8286be51844dc7799cfbbdb6bfe743b9c42cc7dfa69df0fcb613a9"
   }
  }
 },
 "nbformat": 4,
 "nbformat_minor": 2
}
