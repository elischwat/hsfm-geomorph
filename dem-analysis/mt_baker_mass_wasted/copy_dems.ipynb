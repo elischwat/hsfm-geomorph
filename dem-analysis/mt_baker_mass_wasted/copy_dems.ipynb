{
 "cells": [
  {
   "cell_type": "code",
   "execution_count": 1,
   "metadata": {},
   "outputs": [],
   "source": [
    "import glob\n",
    "import os\n",
    "from pathlib import Path\n",
    "import shutil\n",
    "import json \n"
   ]
  },
  {
   "cell_type": "code",
   "execution_count": null,
   "metadata": {},
   "outputs": [],
   "source": [
    "json_file_path = 'inputs/rainbow_inputs.json'"
   ]
  },
  {
   "cell_type": "code",
   "execution_count": null,
   "metadata": {},
   "outputs": [],
   "source": [
    "with open(json_file_path, 'r') as j:\n",
    "     params = json.loads(j.read())"
   ]
  },
  {
   "cell_type": "code",
   "execution_count": 5,
   "metadata": {},
   "outputs": [],
   "source": [
    "original_dems_path = params[\"copy\"][\"original_dems_path\"]\n",
    "\n",
    "new_dems_path = params[\"inputs\"][\"dems_path\"]"
   ]
  },
  {
   "cell_type": "code",
   "execution_count": 6,
   "metadata": {},
   "outputs": [
    {
     "name": "stdout",
     "output_type": "stream",
     "text": [
      "-rw-rw-r--.  1 elilouis elilouis  18M Apr 28 15:46 1947_09_14.tif\n",
      "-rw-rw-r--.  1 elilouis elilouis  95M Apr 28 15:47 1970_09_09.tif\n",
      "-rw-rw-r--.  1 elilouis elilouis 199M Apr 28 15:46 1970_09_29.tif\n",
      "-rw-rw-r--.  1 elilouis elilouis  20M Apr 28 15:47 1974_08_10.tif\n",
      "-rw-rw-r--.  1 elilouis elilouis 171M Apr 28 15:46 1977_09_27.tif\n",
      "-rw-rw-r--.  1 elilouis elilouis 273M Apr 28 15:47 1979_10_06.tif\n",
      "-rw-rw-r--.  1 elilouis elilouis  53M Apr 28 15:45 1987_08_21.tif\n",
      "-rw-rw-r--.  1 elilouis elilouis 107M Apr 28 15:46 1990_09_05.tif\n",
      "-rw-rw-r--.  1 elilouis elilouis 185M Apr 28 15:46 1991_09_09.tif\n",
      "-rw-rw-r--.  1 elilouis elilouis  16M Apr 28 15:47 1992_09_18.tif\n",
      "-rw-rw-r--.  1 elilouis elilouis 157M Apr 28 15:50 2013_09_13.tif\n",
      "-rw-rw-r--.  1 elilouis elilouis 626M Apr 28 15:52 2015_09_01.tif\n",
      "-rw-rw-r--.  1 elilouis elilouis 125M Apr 28 15:50 2019_10_11.tif\n"
     ]
    }
   ],
   "source": [
    "ls -lah {original_dems_path} | grep \".tif\""
   ]
  },
  {
   "cell_type": "code",
   "execution_count": 7,
   "metadata": {},
   "outputs": [],
   "source": [
    "dem_fn_list = glob.glob(os.path.join(original_dems_path, \"*.tif\"))\n",
    "dem_fn_list = sorted(dem_fn_list)\n",
    "\n",
    "for f in dem_fn_list:\n",
    "    new_f = os.path.join(new_dems_path, Path(f).name)\n",
    "    os.makedirs(Path(new_f).parent, exist_ok=True)\n",
    "    shutil.copy(f, new_f)"
   ]
  },
  {
   "cell_type": "code",
   "execution_count": null,
   "metadata": {},
   "outputs": [],
   "source": []
  }
 ],
 "metadata": {
  "interpreter": {
   "hash": "22b7dc50fb8286be51844dc7799cfbbdb6bfe743b9c42cc7dfa69df0fcb613a9"
  },
  "kernelspec": {
   "display_name": "Python 3.9.2 ('xdem')",
   "language": "python",
   "name": "python3"
  },
  "language_info": {
   "codemirror_mode": {
    "name": "ipython",
    "version": 3
   },
   "file_extension": ".py",
   "mimetype": "text/x-python",
   "name": "python",
   "nbconvert_exporter": "python",
   "pygments_lexer": "ipython3",
   "version": "3.9.2"
  },
  "orig_nbformat": 4
 },
 "nbformat": 4,
 "nbformat_minor": 2
}
