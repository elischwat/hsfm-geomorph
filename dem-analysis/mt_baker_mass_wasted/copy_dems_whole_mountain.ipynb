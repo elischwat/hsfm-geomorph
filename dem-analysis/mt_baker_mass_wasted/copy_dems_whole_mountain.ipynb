{
 "cells": [
  {
   "cell_type": "markdown",
   "metadata": {},
   "source": [
    "Code included for two options:\n",
    "* 1947, 1970, 2015 based intervals\n",
    "* 1947, 1977/1979 mixed, 2015 based intervals"
   ]
  },
  {
   "cell_type": "code",
   "execution_count": 3,
   "metadata": {},
   "outputs": [],
   "source": [
    "!cp \"/data2/elilouis/timesift/baker-ee-many/mixed_timesift/individual_clouds/final_products/dems_mosaiced/1947_09_14.tif\" \\\n",
    "\"/data2/elilouis/hsfm-geomorph/data/mt_baker_mass_wasted/whole_mountain/dems/1947_09_14.tif\""
   ]
  },
  {
   "cell_type": "code",
   "execution_count": null,
   "metadata": {},
   "outputs": [],
   "source": [
    "!cp \"/data2/elilouis/timesift/baker-ee-many/mixed_timesift/individual_clouds/final_products/dems_mosaiced/2015_09_01.tif\" \\\n",
    "\"/data2/elilouis/hsfm-geomorph/data/mt_baker_mass_wasted/whole_mountain/dems/2015_09_01.tif\""
   ]
  },
  {
   "cell_type": "code",
   "execution_count": 1,
   "metadata": {},
   "outputs": [],
   "source": [
    "# Old:\n",
    "# !cp \"/data2/elilouis/timesift/baker-ee-many/mixed_timesift/individual_clouds/final_products/dems_mosaiced/1970_09_29.tif\" \\\n",
    "# \"/data2/elilouis/hsfm-geomorph/data/mt_baker_mass_wasted/whole_mountain/dems/1970_09_29.tif\""
   ]
  },
  {
   "cell_type": "code",
   "execution_count": 15,
   "metadata": {},
   "outputs": [],
   "source": [
    "# New:\n",
    "!cp \"/data2/elilouis/timesift/baker-ee-many/mixed_timesift/individual_clouds/final_products/dems_mosaiced/1977_09_27.tif\" \\\n",
    "\"/data2/elilouis/hsfm-geomorph/data/mt_baker_mass_wasted/whole_mountain/dems/1977_09_27.tif\"\n",
    "!cp \"/data2/elilouis/timesift/baker-ee-many/mixed_timesift/individual_clouds/final_products/dems_mosaiced/1979_10_06.tif\" \\\n",
    "\"/data2/elilouis/hsfm-geomorph/data/mt_baker_mass_wasted/whole_mountain/dems/1979_10_06.tif\"\n",
    "\n",
    "rainbow_park_bounds_fn = \"/data2/elilouis/hsfm-geomorph/data/mt_baker_mass_wasted/whole_mountain/rainbow_1977_dem_bounds.shp\"\n",
    "dem1977_fn = \"/data2/elilouis/hsfm-geomorph/data/mt_baker_mass_wasted/whole_mountain/dems/1977_09_27.tif\"\n",
    "dem1979_fn = \"/data2/elilouis/hsfm-geomorph/data/mt_baker_mass_wasted/whole_mountain/dems/1979_10_06.tif\"\n",
    "\n",
    "\n",
    "clipped_dem1977_fn = \"/data2/elilouis/hsfm-geomorph/data/mt_baker_mass_wasted/whole_mountain/dems/1977_09_27_clipped.tif\"\n",
    "clipped_dem1979_fn = \"/data2/elilouis/hsfm-geomorph/data/mt_baker_mass_wasted/whole_mountain/dems/1979_10_06_clipped.tif\"\n",
    "\n",
    "combined_dem_fn = \"/data2/elilouis/hsfm-geomorph/data/mt_baker_mass_wasted/whole_mountain/dems/1977_09_27_and_1979_10_06.tif\"\n",
    "\n",
    "# clip 1977 mosaic DEM to the rainbow & park bounds\n",
    "# invert-clip 1979 mosaic DEM to the rainbow & park bounds\n",
    "# Save the results\n",
    "# Mosaic the products\n",
    "import rioxarray as rix\n",
    "import geopandas as gpd\n",
    "rainbow_park_bounds = gpd.read_file(rainbow_park_bounds_fn)\n",
    "rix.open_rasterio(dem1977_fn).rio.clip(rainbow_park_bounds.geometry).rio.to_raster(clipped_dem1977_fn)\n",
    "rix.open_rasterio(dem1979_fn).rio.clip(rainbow_park_bounds.geometry, invert=True).rio.to_raster(clipped_dem1979_fn)"
   ]
  },
  {
   "cell_type": "code",
   "execution_count": 25,
   "metadata": {},
   "outputs": [
    {
     "name": "stdout",
     "output_type": "stream",
     "text": [
      "\t--> Setting number of processing threads to: 4\n",
      "Writing log info to: /data2/elilouis/hsfm-geomorph/data/mt_baker_mass_wasted/whole_mountain/dems/1977_09_27_and_1979_10_06.tif-log-dem_mosaic-06-18-1223-180348.txt\n",
      "Using output no-data value: -3.40282e+38\n",
      "Determining the bounding boxes of the input DEMs.\n",
      "        --> [********************************************************] Complete!\n",
      "The size of the mosaic is 13560 x 14211 pixels.\n",
      "The output georeference is\n",
      "-- Proj.4 Geospatial Reference Object --\n",
      "\tPROJCS name: WGS 84 / UTM zone 10N\n",
      "\tTransform  : Matrix3x3((1.06841,0,579535)(0,-1.06841,5.4109e+06)(0,0,1))\n",
      "\tGeodetic Datum --> Name: WGS_1984  Spheroid: WGS 84  Semi-major axis: 6378137  Semi-minor axis: 6356752.3142451793  Meridian: Greenwich at 0  Proj4 Str: +datum=WGS84\n",
      "\tProj.4 String: +proj=utm +zone=10 +units=m\n",
      "\tPixel Interpretation: pixel as area\n",
      "longitude range: [-180, 180]\n",
      "\n",
      "Number of tiles: 1 x 1 = 1.\n",
      "Reading the input DEMs.\n",
      "Loading: /data2/elilouis/hsfm-geomorph/data/mt_baker_mass_wasted/whole_mountain/dems/1977_09_27_clipped.tif\n",
      "Loading: /data2/elilouis/hsfm-geomorph/data/mt_baker_mass_wasted/whole_mountain/dems/1979_10_06_clipped.tif\n",
      "Writing: /data2/elilouis/hsfm-geomorph/data/mt_baker_mass_wasted/whole_mountain/dems/1977_09_27_and_1979_10_06.tif\n",
      "        --> [********************************************************] Complete!\n",
      "Re-writing with blocks of size: 256 x 256.\n",
      "        --> [********************************************************] Complete!\n",
      "Number of valid (not no-data) pixels written: 102413022.\n"
     ]
    }
   ],
   "source": [
    "!dem_mosaic \\\n",
    "    /data2/elilouis/hsfm-geomorph/data/mt_baker_mass_wasted/whole_mountain/dems/1977_09_27_clipped.tif \\\n",
    "    /data2/elilouis/hsfm-geomorph/data/mt_baker_mass_wasted/whole_mountain/dems/1979_10_06_clipped.tif \\\n",
    "    -o /data2/elilouis/hsfm-geomorph/data/mt_baker_mass_wasted/whole_mountain/dems/1977_09_27_and_1979_10_06.tif"
   ]
  },
  {
   "cell_type": "code",
   "execution_count": null,
   "metadata": {},
   "outputs": [],
   "source": []
  }
 ],
 "metadata": {
  "interpreter": {
   "hash": "22b7dc50fb8286be51844dc7799cfbbdb6bfe743b9c42cc7dfa69df0fcb613a9"
  },
  "kernelspec": {
   "display_name": "Python 3.9.2 ('xdem')",
   "language": "python",
   "name": "python3"
  },
  "language_info": {
   "codemirror_mode": {
    "name": "ipython",
    "version": 3
   },
   "file_extension": ".py",
   "mimetype": "text/x-python",
   "name": "python",
   "nbconvert_exporter": "python",
   "pygments_lexer": "ipython3",
   "version": "3.9.2"
  },
  "orig_nbformat": 4
 },
 "nbformat": 4,
 "nbformat_minor": 2
}
