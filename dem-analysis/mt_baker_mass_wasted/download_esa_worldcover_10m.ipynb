{
 "cells": [
  {
   "cell_type": "code",
   "execution_count": null,
   "metadata": {},
   "outputs": [],
   "source": [
    "import xdem\n",
    "from shapely import geometry\n",
    "import geopandas as gpd\n",
    "from terracatalogueclient import Catalogue"
   ]
  },
  {
   "cell_type": "code",
   "execution_count": null,
   "metadata": {},
   "outputs": [],
   "source": [
    "dtm_fn = '/data2/elilouis/hsfm-geomorph/data/reference_dem_highres/baker/raw_tifs/baker_2015/2015_dtm_10m.tif'\n",
    "dtm = xdem.DEM(dtm_fn)"
   ]
  },
  {
   "cell_type": "code",
   "execution_count": null,
   "metadata": {},
   "outputs": [],
   "source": [
    "bounds_polygon = geometry.Polygon.from_bounds(*dtm.bounds)\n",
    "bounds_polygon = gpd.GeoDataFrame(geometry=[bounds_polygon]).set_crs(dtm.crs).to_crs(\"EPSG:4326\").geometry.iloc[0]"
   ]
  },
  {
   "cell_type": "code",
   "execution_count": null,
   "metadata": {},
   "outputs": [],
   "source": [
    "\n",
    "\n",
    "catalogue = Catalogue().authenticate_non_interactive('elilouis', 'ESA_WorldCover_10m_2020_V1')\n",
    "\n",
    "products = catalogue.get_products(\"urn:eop:VITO:ESA_WorldCover_10m_2020_V1\", geometry=bounds_polygon)\n",
    "\n",
    "catalogue.download_products(products, \"/data2/elilouis/hsfm-geomorph/data/ESA_WorldCover_10m_2020_V1/\")"
   ]
  }
 ],
 "metadata": {
  "language_info": {
   "name": "python"
  },
  "orig_nbformat": 4
 },
 "nbformat": 4,
 "nbformat_minor": 2
}
