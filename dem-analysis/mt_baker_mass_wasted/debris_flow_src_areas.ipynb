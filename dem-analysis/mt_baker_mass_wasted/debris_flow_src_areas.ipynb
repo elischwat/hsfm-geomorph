{
 "cells": [
  {
   "cell_type": "code",
   "execution_count": 12,
   "metadata": {},
   "outputs": [],
   "source": [
    "import geopandas as gpd\n",
    "import rioxarray as rix\n",
    "import numpy as np"
   ]
  },
  {
   "cell_type": "code",
   "execution_count": 13,
   "metadata": {},
   "outputs": [],
   "source": [
    "gdf = gpd.read_file(\"/data2/elilouis/hsfm-geomorph/data/mt_baker_mass_wasted/deming/debris_flow_src_areas.shp\")\n",
    "raster = rix.open_rasterio(\"/data2/elilouis/hsfm-geomorph/data/mt_baker_mass_wasted/deming/dods/1979_10_06_to_2015_09_01_largerarea_asis.tif\", masked=True)"
   ]
  },
  {
   "cell_type": "code",
   "execution_count": 20,
   "metadata": {},
   "outputs": [
    {
     "data": {
      "text/plain": [
       "69653.53125"
      ]
     },
     "execution_count": 20,
     "metadata": {},
     "output_type": "execute_result"
    }
   ],
   "source": [
    "np.nansum(raster.rio.clip([gdf.geometry.iloc[0]]).values)*raster.rio.resolution()[0]*raster.rio.resolution()[1]"
   ]
  },
  {
   "cell_type": "code",
   "execution_count": 21,
   "metadata": {},
   "outputs": [
    {
     "data": {
      "text/plain": [
       "92351.0234375"
      ]
     },
     "execution_count": 21,
     "metadata": {},
     "output_type": "execute_result"
    }
   ],
   "source": [
    "np.nansum(raster.rio.clip([gdf.geometry.iloc[1]]).values)*raster.rio.resolution()[0]*raster.rio.resolution()[1]"
   ]
  },
  {
   "cell_type": "code",
   "execution_count": null,
   "metadata": {},
   "outputs": [],
   "source": []
  }
 ],
 "metadata": {
  "kernelspec": {
   "display_name": "Python 3.8.6 ('hsfm-test')",
   "language": "python",
   "name": "python3"
  },
  "language_info": {
   "codemirror_mode": {
    "name": "ipython",
    "version": 3
   },
   "file_extension": ".py",
   "mimetype": "text/x-python",
   "name": "python",
   "nbconvert_exporter": "python",
   "pygments_lexer": "ipython3",
   "version": "3.8.6"
  },
  "orig_nbformat": 4,
  "vscode": {
   "interpreter": {
    "hash": "d65044a574e5a4af3a0a0aa1d534c88ddc66c829fc139cb1b718a6de0f64ba1e"
   }
  }
 },
 "nbformat": 4,
 "nbformat_minor": 2
}
