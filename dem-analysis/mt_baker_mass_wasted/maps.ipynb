{
 "cells": [
  {
   "cell_type": "code",
   "execution_count": 1,
   "metadata": {},
   "outputs": [],
   "source": [
    "import rioxarray"
   ]
  },
  {
   "cell_type": "code",
   "execution_count": 5,
   "metadata": {},
   "outputs": [
    {
     "name": "stdout",
     "output_type": "stream",
     "text": [
      "1947_09_14_to_1970_09_29_asis.tif\n",
      "1947_09_14_to_1970_09_29.tif\n",
      "1947_09_14_to_1979_10_06_largerarea_asis.tif\n",
      "1947_09_14_to_1979_10_06_largerarea.tif\n",
      "1947_09_14_to_2015_09_01_asis.tif\n",
      "1947_09_14_to_2015_09_01_largerarea_asis.tif\n",
      "1947_09_14_to_2015_09_01_largerarea.tif\n",
      "1947_09_14_to_2015_09_01.tif\n",
      "1970_09_29_to_1979_10_06_asis.tif\n",
      "1970_09_29_to_1979_10_06.tif\n",
      "1979_10_06_to_1991_09_09_asis.tif\n",
      "1979_10_06_to_1991_09_09.tif\n",
      "1979_10_06_to_2015_09_01_largerarea_asis.tif\n",
      "1979_10_06_to_2015_09_01_largerarea.tif\n",
      "1991_09_09_to_2015_09_01_asis.tif\n",
      "1991_09_09_to_2015_09_01.tif\n"
     ]
    }
   ],
   "source": [
    "\n",
    "ls /data2/elilouis/hsfm-geomorph/data/mt_baker_mass_wasted/deming/dods/"
   ]
  },
  {
   "cell_type": "code",
   "execution_count": null,
   "metadata": {},
   "outputs": [],
   "source": []
  }
 ],
 "metadata": {
  "kernelspec": {
   "display_name": "hsfm",
   "language": "python",
   "name": "python3"
  },
  "language_info": {
   "codemirror_mode": {
    "name": "ipython",
    "version": 3
   },
   "file_extension": ".py",
   "mimetype": "text/x-python",
   "name": "python",
   "nbconvert_exporter": "python",
   "pygments_lexer": "ipython3",
   "version": "3.9.16"
  },
  "orig_nbformat": 4
 },
 "nbformat": 4,
 "nbformat_minor": 2
}
