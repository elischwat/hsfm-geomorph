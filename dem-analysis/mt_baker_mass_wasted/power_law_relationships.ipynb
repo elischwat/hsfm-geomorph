{
 "cells": [
  {
   "cell_type": "code",
   "execution_count": null,
   "metadata": {},
   "outputs": [],
   "source": [
    "import os\n",
    "from pathlib import Path\n",
    "import glob\n",
    "import numpy as np\n",
    "import pandas as pd\n",
    "import geopandas as gpd\n",
    "from datetime import datetime\n",
    "import matplotlib.pyplot as plt\n",
    "import geoutils as gu\n",
    "import xdem\n",
    "from pprint import pprint\n",
    "import altair as alt    \n",
    "from rasterio.enums import Resampling\n",
    "import json \n",
    "import seaborn as sns\n",
    "from shapely import wkt\n",
    "pd.set_option('display.max_rows', 500)\n",
    "pd.set_option('display.max_columns', 500)\n",
    "\n",
    "from functools import reduce\n",
    "import scipy\n",
    "\n",
    "np.set_printoptions(suppress=True)\n",
    "from sklearn.metrics import r2_score"
   ]
  },
  {
   "cell_type": "code",
   "execution_count": null,
   "metadata": {},
   "outputs": [],
   "source": [
    "def nse(targets,predictions):\n",
    "    return 1-(np.sum((targets-predictions)**2)/np.sum((targets-np.mean(predictions))**2))"
   ]
  },
  {
   "cell_type": "code",
   "execution_count": null,
   "metadata": {},
   "outputs": [],
   "source": [
    "def r2_plot(df, x, y, plot_fit_line=False, r2_annotations=False, limit=150000, x_axis_title='', y_axis_title='', size=100):\n",
    "    chart = alt.Chart(df).mark_circle(size=size).encode(\n",
    "        x=alt.X(x, title=x_axis_title),\n",
    "        y=alt.Y(y, title=y_axis_title)\n",
    "    )\n",
    "    line = chart.transform_regression(x, y).mark_line()\n",
    "\n",
    "    params = alt.Chart(df).transform_regression(\n",
    "        x, y, params=True\n",
    "    ).mark_text(align='left').encode(\n",
    "        x=alt.value(20),  # pixels from left\n",
    "        y=alt.value(20),  # pixels from top\n",
    "        text=alt.Text('rSquared:N', format=\".3f\")\n",
    "    ).properties(width=200, height=200)\n",
    "\n",
    "    one_to_one_line = alt.Chart(pd.DataFrame({\n",
    "        'x': np.linspace(0, limit, 100),\n",
    "        'y': np.linspace(0, limit, 100)\n",
    "    })).mark_line(color='black', opacity=0.25).encode(\n",
    "        alt.X('x', scale=alt.Scale(domain=(0,limit))),\n",
    "        alt.Y('y', scale=alt.Scale(domain=(0,limit)))\n",
    "    )\n",
    "\n",
    "    if r2_annotations:\n",
    "        base_chart = (chart + params + one_to_one_line).properties(width=200, height=200)\n",
    "    else:\n",
    "        base_chart = (chart + one_to_one_line).properties(width=200, height=200)\n",
    "    if plot_fit_line:\n",
    "        return base_chart + line\n",
    "    else:\n",
    "        return base_chart"
   ]
  },
  {
   "attachments": {},
   "cell_type": "markdown",
   "metadata": {},
   "source": [
    "# Set constants"
   ]
  },
  {
   "cell_type": "code",
   "execution_count": null,
   "metadata": {},
   "outputs": [],
   "source": [
    "porosity = 0.35\n",
    "density_kg_per_cubic_meter = 2600\n",
    "kg_per_metric_ton = 1000"
   ]
  },
  {
   "attachments": {},
   "cell_type": "markdown",
   "metadata": {},
   "source": [
    "# Load Data"
   ]
  },
  {
   "attachments": {},
   "cell_type": "markdown",
   "metadata": {},
   "source": [
    "### Load streamstats wastersheds"
   ]
  },
  {
   "cell_type": "code",
   "execution_count": null,
   "metadata": {},
   "outputs": [],
   "source": [
    "streamstats_watersheds_fns = glob.glob(\"/data2/elilouis/hsfm-geomorph/data/mt_baker_mass_wasted/streamstats_watersheds/*.geojson\")\n",
    "\n",
    "streamstats_gdf = gpd.GeoDataFrame()\n",
    "for f in streamstats_watersheds_fns:\n",
    "    new_data = gpd.read_file(f)\n",
    "    new_data['Valley Name'] = f.split(\"/\")[-1].split(\".geojson\")[0]\n",
    "    streamstats_gdf = pd.concat([streamstats_gdf, new_data])\n",
    "streamstats_gdf['Valley Name'] = streamstats_gdf['Valley Name'].str.title()\n",
    "streamstats_gdf = streamstats_gdf[streamstats_gdf.geometry.type == 'Polygon']\n",
    "streamstats_gdf = streamstats_gdf.to_crs(\"EPSG:32610\")\n",
    "streamstats_gdf['watershed area (square m)'] = streamstats_gdf.geometry.area\n",
    "streamstats_gdf['watershed area (square km)'] = streamstats_gdf['watershed area (square m)'] / 10**6"
   ]
  },
  {
   "cell_type": "code",
   "execution_count": null,
   "metadata": {},
   "outputs": [],
   "source": [
    "streamstats_gdf"
   ]
  },
  {
   "attachments": {},
   "cell_type": "markdown",
   "metadata": {},
   "source": [
    "### Load glacier change measurements"
   ]
  },
  {
   "cell_type": "code",
   "execution_count": null,
   "metadata": {},
   "outputs": [],
   "source": [
    "glacier_change_df = pd.read_pickle(\"outputs/glacier_area.pickle\").reset_index()"
   ]
  },
  {
   "cell_type": "code",
   "execution_count": null,
   "metadata": {},
   "outputs": [],
   "source": [
    "glacier_change_df = pd.read_pickle(\"outputs/glacier_area.pickle\").reset_index()\n",
    "glacier_change_df['Valley Name'] = glacier_change_df['Name'].apply(lambda s: s.split(\" \")[0])\n",
    "glacier_change_df['glacial advance absolute'] = glacier_change_df.apply(\n",
    "    lambda row: row['area difference']['1977_09_27'] \n",
    "        if not np.isnan(row['area difference']['1977_09_27'])\n",
    "        else row['area difference']['1979_10_06'],\n",
    "    axis=1\n",
    ")\n",
    "glacier_change_df['glacial retreat absolute'] = glacier_change_df['area difference']['2015_09_01']\n",
    "glacier_change_df['glacial advance and retreat absolute'] = np.abs(glacier_change_df['glacial advance absolute']) + np.abs(glacier_change_df['glacial retreat absolute'])\n",
    "glacier_change_df['glacial area 1947'] = glacier_change_df['area']['1947_09_14']\n",
    "glacier_change_df['glacial area 1977/79'] = glacier_change_df['area'].apply(lambda row: row['1977_09_27'] if np.isnan(row['1979_10_06']) else row['1979_10_06'], axis=1)\n",
    "glacier_change_df['glacial area 2015'] = glacier_change_df['area']['2015_09_01']\n",
    "\n",
    "glacier_change_df = glacier_change_df[[\n",
    "    'Valley Name',\n",
    "    'glacial advance absolute',\n",
    "    'glacial retreat absolute',\n",
    "    'glacial advance and retreat absolute',\n",
    "    'glacial area 1947',\n",
    "    'glacial area 1977/79',\n",
    "    'glacial area 2015'\n",
    "]]\n",
    "\n",
    "glacier_change_df.columns = glacier_change_df.columns.get_level_values(0)\n",
    "\n",
    "# Manually combine the Coleman Roosevelt rows, remove the old ones, and add a new combined \"Coleman\" row\n",
    "row = glacier_change_df[glacier_change_df['Valley Name'].isin(['Coleman', 'Roosevelt'])].sum()\n",
    "row['Valley Name'] = 'Coleman'\n",
    "glacier_change_df = glacier_change_df[~glacier_change_df['Valley Name'].isin(['Coleman', 'Roosevelt'])].append(row, ignore_index=True)"
   ]
  },
  {
   "attachments": {},
   "cell_type": "markdown",
   "metadata": {},
   "source": [
    "### Load terrain attribute data"
   ]
  },
  {
   "cell_type": "code",
   "execution_count": null,
   "metadata": {},
   "outputs": [],
   "source": [
    "terrain_attrs_erosionarea = pd.read_csv(\"outputs/terrain_attributes_erosionarea.csv\")\n",
    "terrain_attrs_erosionarea = terrain_attrs_erosionarea.rename(columns={'name': 'Valley Name'})\n",
    "terrain_attrs_erosionarea['drainage area (km)'] = terrain_attrs_erosionarea['drainage area'] / 1e6\n",
    "\n",
    "\n",
    "terrain_attrs_erosionarea_bytpe = pd.read_csv(\"outputs/terrain_attributes_erosionarea_bytype.csv\")\n",
    "terrain_attrs_erosionarea_bytpe = terrain_attrs_erosionarea_bytpe.rename(columns={'name': 'Valley Name'})\n",
    "terrain_attrs_erosionarea_bytpe['drainage area (km)'] = terrain_attrs_erosionarea_bytpe['drainage area'] / 1e6"
   ]
  },
  {
   "cell_type": "code",
   "execution_count": null,
   "metadata": {},
   "outputs": [],
   "source": [
    "terrain_attrs_erosionarea[['slope all erosion area', 'drainage area (km)', 'curvature']] = terrain_attrs_erosionarea[['slope', 'drainage area (km)', 'curvature']]\n",
    "\n",
    "terrain_attrs_erosionarea = terrain_attrs_erosionarea[['Valley Name', 'drainage area (km)', 'curvature', 'slope all erosion area']]"
   ]
  },
  {
   "cell_type": "code",
   "execution_count": null,
   "metadata": {},
   "outputs": [],
   "source": [
    "terrain_attrs_erosionarea = terrain_attrs_erosionarea.merge(\n",
    "    terrain_attrs_erosionarea_bytpe.query(\"type == 'fluvial'\")[['Valley Name', 'slope']].rename(columns={'slope': 'slope fluvial erosion area'}),\n",
    "    on='Valley Name'\n",
    ")\n",
    "\n",
    "terrain_attrs_erosionarea = terrain_attrs_erosionarea.merge(\n",
    "    terrain_attrs_erosionarea_bytpe.query(\"type == 'hillslope'\")[['Valley Name', 'slope']].rename(columns={'slope': 'slope hillslope erosion area'}),\n",
    "    on='Valley Name'\n",
    ")"
   ]
  },
  {
   "cell_type": "code",
   "execution_count": null,
   "metadata": {},
   "outputs": [],
   "source": [
    "terrain_attrs_erosionarea"
   ]
  },
  {
   "attachments": {},
   "cell_type": "markdown",
   "metadata": {},
   "source": [
    "### Load longitudinal slope measurements"
   ]
  },
  {
   "cell_type": "code",
   "execution_count": null,
   "metadata": {},
   "outputs": [],
   "source": [
    "pd.read_csv(\"outputs/slopes.csv\")['Valley Name'].unique()"
   ]
  },
  {
   "cell_type": "code",
   "execution_count": null,
   "metadata": {},
   "outputs": [],
   "source": [
    "long_slopes_df = pd.read_csv(\"outputs/slopes.csv\")\n",
    "\n",
    "slopes_df_pivoted = long_slopes_df.drop(columns=['Unnamed: 0']).pivot('Valley Name', columns=['year', 'measurement'], values='slope')\n",
    "\n",
    "long_slopes_df_list = [\n",
    "    pd.DataFrame(slopes_df_pivoted[1947]['Between observed glacial max and LIA']).reset_index().rename(columns={'Between observed glacial max and LIA': 'longitudinal slope limited 1947'}),\n",
    "    pd.DataFrame(slopes_df_pivoted[2015]['Between observed glacial max and LIA']).reset_index().rename(columns={'Between observed glacial max and LIA': 'longitudinal slope limited 2015'}),\n",
    "    pd.DataFrame(slopes_df_pivoted[1947]['All measurable area']).reset_index().rename(columns={'All measurable area': 'longitudinal slope 1947'}),\n",
    "    pd.DataFrame(slopes_df_pivoted[2015]['All measurable area']).reset_index().rename(columns={'All measurable area': 'longitudinal slope 2015'})\n",
    "]\n",
    "\n",
    "cleaned_longitudinal_slope_df = reduce(lambda x, y: pd.merge(x, y, on = 'Valley Name'), long_slopes_df_list)\n",
    "\n",
    "cleaned_longitudinal_slope_df"
   ]
  },
  {
   "attachments": {},
   "cell_type": "markdown",
   "metadata": {},
   "source": [
    "### Load lithology data"
   ]
  },
  {
   "cell_type": "code",
   "execution_count": null,
   "metadata": {},
   "outputs": [],
   "source": [
    "lithology_df = pd.read_csv(\"outputs/lithology.csv\")"
   ]
  },
  {
   "cell_type": "code",
   "execution_count": null,
   "metadata": {},
   "outputs": [],
   "source": [
    "lithology_df['nonigneous fraction'] = lithology_df['AREA']\n",
    "lithology_df = lithology_df[['Valley Name', 'nonigneous fraction']]"
   ]
  },
  {
   "cell_type": "code",
   "execution_count": null,
   "metadata": {},
   "outputs": [],
   "source": [
    "lithology_df"
   ]
  },
  {
   "attachments": {},
   "cell_type": "markdown",
   "metadata": {},
   "source": [
    "## Load gross volume change measurements"
   ]
  },
  {
   "attachments": {},
   "cell_type": "markdown",
   "metadata": {},
   "source": [
    "### Load net volume change measurements"
   ]
  },
  {
   "cell_type": "code",
   "execution_count": null,
   "metadata": {},
   "outputs": [],
   "source": [
    "net_measurements = pd.read_pickle(\"outputs/xdem_whole_mountain_combined/dv_df_by_valley.pickle\")\n",
    "neg_measurements = pd.read_pickle(\"outputs/xdem_whole_mountain_combined/thresh_neg_dv_df_by_valley.pickle\")\n",
    "pos_measurements = pd.read_pickle(\"outputs/xdem_whole_mountain_combined/thresh_pos_dv_df_by_valley.pickle\")"
   ]
  },
  {
   "cell_type": "code",
   "execution_count": null,
   "metadata": {},
   "outputs": [],
   "source": [
    "for df in [net_measurements, neg_measurements, pos_measurements]:\n",
    "    df['Valley Name'] = df['name']\n",
    "    df['time interval'] = df['index']\n",
    "\n",
    "    df = df[[\n",
    "        'time interval',\n",
    "        'Valley Name',\n",
    "        'dh',\n",
    "        'area',\n",
    "        'volume',\n",
    "        'bounding',\n",
    "        'n_pixels',\n",
    "        'start_time',\n",
    "        'end_time',\n",
    "        'time_difference_years',\n",
    "        'Annual Mass Wasted',\n",
    "        'volumetric_uncertainty',\n",
    "        'Upper CI',\n",
    "        'Lower CI',\n",
    "        'Average Date',   \n",
    "    ]].reset_index()"
   ]
  },
  {
   "attachments": {},
   "cell_type": "markdown",
   "metadata": {},
   "source": [
    "#### Replace numbers for the Intensive Observation Areas with the case study calculations (more accurate)"
   ]
  },
  {
   "cell_type": "code",
   "execution_count": null,
   "metadata": {},
   "outputs": [],
   "source": [
    "pd.concat([pd.read_pickle(f) for f in glob.glob(\"outputs/larger_area/threshold_pos_dv_df/*.pickle\")]).dropna(subset='Annual Mass Wasted')"
   ]
  },
  {
   "cell_type": "code",
   "execution_count": null,
   "metadata": {},
   "outputs": [],
   "source": [
    "ls -lah outputs/larger_area/bounding_dv_df/"
   ]
  },
  {
   "cell_type": "code",
   "execution_count": null,
   "metadata": {},
   "outputs": [],
   "source": [
    "casestudy_netmeasurements_bounding = pd.concat([pd.read_pickle(f) for f in glob.glob(\"outputs/larger_area/bounding_dv_df/*.pickle\")]).dropna(subset='Annual Mass Wasted')\n",
    "# casestudy_negmeasurements_bounding = pd.concat([pd.read_pickle(f) for f in glob.glob(\"outputs/larger_area/threshold_neg_dv_df/*.pickle\")]).dropna(subset='Annual Mass Wasted')\n",
    "# casestudy_posmeasurements_bounding = pd.concat([pd.read_pickle(f) for f in glob.glob(\"outputs/larger_area/threshold_pos_dv_df/*.pickle\")]).dropna(subset='Annual Mass Wasted')\n",
    "\n",
    "casestudy_netmeasurements_bounding['bounding'] = True\n",
    "casestudy_netmeasurements = pd.concat([pd.read_pickle(f) for f in glob.glob(\"outputs/larger_area/dv_df/*.pickle\")]).dropna(subset='Annual Mass Wasted')\n",
    "casestudy_netmeasurements['bounding'] = False\n",
    "casestudy_netmeasurements = pd.concat([casestudy_netmeasurements, casestudy_netmeasurements_bounding])\n",
    "\n",
    "# for df in []\n",
    "casestudy_netmeasurements['Valley Name'] = casestudy_netmeasurements['valley']\n",
    "casestudy_netmeasurements['time interval'] = casestudy_netmeasurements['index']\n",
    "casestudy_netmeasurements = casestudy_netmeasurements[[\n",
    "    'time interval',\n",
    "    'Valley Name',\n",
    "    'dh',\n",
    "    'area',\n",
    "    'volume',\n",
    "    'bounding',\n",
    "    'n_pixels',\n",
    "    'start_time',\n",
    "    'end_time',\n",
    "    'time_difference_years',\n",
    "    'Annual Mass Wasted',\n",
    "    'volumetric_uncertainty',\n",
    "    'Upper CI',\n",
    "    'Lower CI',\n",
    "    'Average Date',   \n",
    "]].reset_index()"
   ]
  },
  {
   "cell_type": "code",
   "execution_count": null,
   "metadata": {},
   "outputs": [],
   "source": [
    "net_measurements = pd.concat([\n",
    "    net_measurements[~net_measurements['Valley Name'].isin(['Deming', 'Mazama', 'Coleman',' Rainbow'])],\n",
    "    casestudy_netmeasurements[casestudy_netmeasurements['Valley Name'].isin(['Deming', 'Mazama', 'Coleman',' Rainbow'])]\n",
    "])"
   ]
  },
  {
   "attachments": {},
   "cell_type": "markdown",
   "metadata": {},
   "source": [
    "#### Name time intervals"
   ]
  },
  {
   "cell_type": "code",
   "execution_count": null,
   "metadata": {},
   "outputs": [],
   "source": [
    "date_interval_to_named_interval = {\n",
    "    pd.Interval(pd.Timestamp(1947,9,14), pd.Timestamp(1977,9,27)): 'advance',\n",
    "    pd.Interval(pd.Timestamp(1947,9,14), pd.Timestamp(1979,10,6)): 'advance',\n",
    "\n",
    "    pd.Interval(pd.Timestamp(1977,9,27), pd.Timestamp(2015,9,1)): 'retreat',\n",
    "    pd.Interval(pd.Timestamp(1979,10,6), pd.Timestamp(2015,9,1)): 'retreat',\n",
    "\n",
    "    pd.Interval(pd.Timestamp(1947,9,14), pd.Timestamp(2015,9,1)): 'bounding'\n",
    "}\n",
    "\n",
    "\n",
    "net_measurements['named interval'] = net_measurements['time interval'].apply(date_interval_to_named_interval.get)"
   ]
  },
  {
   "cell_type": "code",
   "execution_count": null,
   "metadata": {},
   "outputs": [],
   "source": [
    "len(net_measurements['Valley Name'].unique())"
   ]
  },
  {
   "attachments": {},
   "cell_type": "markdown",
   "metadata": {},
   "source": [
    "## Merge Datasets"
   ]
  },
  {
   "attachments": {},
   "cell_type": "markdown",
   "metadata": {},
   "source": [
    "### Merge volume measurements and Streamstats watershed area data"
   ]
  },
  {
   "cell_type": "code",
   "execution_count": null,
   "metadata": {},
   "outputs": [],
   "source": [
    "net_measurements = net_measurements.merge(\n",
    "    streamstats_gdf[['Valley Name', 'watershed area (square m)',\t'watershed area (square km)']].reset_index(drop=True),\n",
    "    on = 'Valley Name'\n",
    ")"
   ]
  },
  {
   "cell_type": "code",
   "execution_count": null,
   "metadata": {},
   "outputs": [],
   "source": [
    "len(net_measurements['Valley Name'].unique())"
   ]
  },
  {
   "attachments": {},
   "cell_type": "markdown",
   "metadata": {},
   "source": [
    "### Merge in Terrain Attributes data (attributes of erosion polygon area)"
   ]
  },
  {
   "cell_type": "code",
   "execution_count": null,
   "metadata": {},
   "outputs": [],
   "source": [
    "net_measurements = net_measurements.merge(\n",
    "    terrain_attrs_erosionarea,\n",
    "    on='Valley Name'\n",
    ")"
   ]
  },
  {
   "cell_type": "code",
   "execution_count": null,
   "metadata": {},
   "outputs": [],
   "source": [
    "len(net_measurements['Valley Name'].unique())"
   ]
  },
  {
   "attachments": {},
   "cell_type": "markdown",
   "metadata": {},
   "source": [
    "### Merge in glacier change data"
   ]
  },
  {
   "cell_type": "code",
   "execution_count": null,
   "metadata": {},
   "outputs": [],
   "source": [
    "net_measurements = net_measurements.merge(\n",
    "    glacier_change_df, on='Valley Name'\n",
    ")"
   ]
  },
  {
   "cell_type": "code",
   "execution_count": null,
   "metadata": {},
   "outputs": [],
   "source": [
    "len(net_measurements['Valley Name'].unique())"
   ]
  },
  {
   "attachments": {},
   "cell_type": "markdown",
   "metadata": {},
   "source": [
    "### Merge in lithology data"
   ]
  },
  {
   "cell_type": "code",
   "execution_count": null,
   "metadata": {},
   "outputs": [],
   "source": [
    "net_measurements.head(3)"
   ]
  },
  {
   "cell_type": "code",
   "execution_count": null,
   "metadata": {},
   "outputs": [],
   "source": [
    "net_measurements = net_measurements.merge(\n",
    "    lithology_df, on='Valley Name'\n",
    ")"
   ]
  },
  {
   "attachments": {},
   "cell_type": "markdown",
   "metadata": {},
   "source": [
    "##### Assign Nooksack river fork"
   ]
  },
  {
   "cell_type": "code",
   "execution_count": null,
   "metadata": {},
   "outputs": [],
   "source": [
    "net_measurements['Fork of the Nooksack River'] = 'Does not drain to Nooksack River'\n",
    "net_measurements.loc[net_measurements[\"Valley Name\"] == \"Coleman\", 'Fork of the Nooksack River'] = \"North Fork\"\n",
    "net_measurements.loc[net_measurements[\"Valley Name\"] == \"Deming\", 'Fork of the Nooksack River'] = \"Middle Fork\"\n",
    "net_measurements.loc[net_measurements[\"Valley Name\"] == \"Mazama\", 'Fork of the Nooksack River'] = \"North Fork\"\n",
    "net_measurements.loc[net_measurements[\"Valley Name\"] == \"Thunder\", 'Fork of the Nooksack River'] = \"Middle Fork\""
   ]
  },
  {
   "cell_type": "code",
   "execution_count": null,
   "metadata": {},
   "outputs": [],
   "source": [
    "len(net_measurements['Valley Name'].unique())"
   ]
  },
  {
   "attachments": {},
   "cell_type": "markdown",
   "metadata": {},
   "source": [
    "## Calculate sediment yields from volume measurements"
   ]
  },
  {
   "cell_type": "code",
   "execution_count": null,
   "metadata": {},
   "outputs": [],
   "source": [
    "net_measurements['sediment yield (t / yr)'] = - net_measurements['Annual Mass Wasted'] * (1 - porosity) * density_kg_per_cubic_meter / kg_per_metric_ton\n",
    "net_measurements['Upper CI sediment yield'] = - net_measurements['Upper CI'] * (1 - porosity) * density_kg_per_cubic_meter / kg_per_metric_ton\n",
    "net_measurements['Lower CI sediment yield'] = - net_measurements['Lower CI'] * (1 - porosity) * density_kg_per_cubic_meter / kg_per_metric_ton\n",
    "\n",
    "net_measurements['sediment yield normalized (t / km^2 / yr)'] = net_measurements['sediment yield (t / yr)'] / net_measurements['watershed area (square km)']\n",
    "net_measurements['Upper CI sediment yield normalized'] = net_measurements['Upper CI sediment yield'] / net_measurements['watershed area (square km)']\n",
    "net_measurements['Lower CI sediment yield normalized'] = net_measurements['Lower CI sediment yield'] / net_measurements['watershed area (square km)']\n",
    "\n",
    "net_measurements['Annual Mass Wasted normalized'] = net_measurements['Annual Mass Wasted'] / (net_measurements['watershed area (square km)']*(1000**2))\n",
    "net_measurements['Upper CI normalized'] = net_measurements['Upper CI'] / (net_measurements['watershed area (square km)']*(1000**2))\n",
    "net_measurements['Lower CI normalized'] = net_measurements['Lower CI'] / (net_measurements['watershed area (square km)']*(1000**2))"
   ]
  },
  {
   "attachments": {},
   "cell_type": "markdown",
   "metadata": {},
   "source": [
    "# Plot Sediment Yield (1947-2015)"
   ]
  },
  {
   "cell_type": "code",
   "execution_count": null,
   "metadata": {},
   "outputs": [],
   "source": [
    "yield_domain = [-50, 168.99999999999997]\n",
    "volume_domain = [-29585.79881656805/1000, 100]"
   ]
  },
  {
   "cell_type": "code",
   "execution_count": null,
   "metadata": {},
   "outputs": [],
   "source": [
    "valley_sorting = ['Coleman','Deming','Rainbow','Mazama','Park','Easton','Boulder','Thunder','Squak','Talum']"
   ]
  },
  {
   "cell_type": "code",
   "execution_count": null,
   "metadata": {},
   "outputs": [],
   "source": [
    "fig_width=200\n",
    "fig_height=300\n",
    "yield_domain = [-11.8310517529, 8.4507512520868]\n",
    "volume_domain = [-0.007, 0.005]\n",
    "\n",
    "src_bounding = net_measurements[net_measurements['named interval'] == 'bounding'].drop(columns=['time interval']).drop(columns='index')\n",
    "\n",
    "src_bounding['Annual Mass Wasted normalized'] = -src_bounding['Annual Mass Wasted normalized']\n",
    "src_bounding['Lower CI normalized'] = -src_bounding['Lower CI normalized']\n",
    "src_bounding['Upper CI normalized'] = -src_bounding['Upper CI normalized']\n",
    "src_bounding['sediment yield normalized (kt / km^2 / yr)'] = src_bounding['sediment yield normalized (t / km^2 / yr)']/1000\n",
    "\n",
    "base = alt.Chart(src_bounding).encode(alt.X(\"Valley Name\", axis=alt.Axis(labelAngle = -60), sort=valley_sorting)).properties(width=fig_width, height=fig_height)\n",
    "volume = base.mark_bar().encode(\n",
    "    alt.Y(\"Annual Mass Wasted normalized:Q\", title='Specifc sediment yield (m/yr)', sort=valley_sorting, scale=alt.Scale(\n",
    "        domain=volume_domain, \n",
    "        nice=False\n",
    "    )),\n",
    "    alt.Color(\"Fork of the Nooksack River:N\")\n",
    ")\n",
    "sedyield = base.mark_bar().encode(\n",
    "    alt.Y(\"sediment yield normalized (kt / km^2 / yr):Q\", sort=valley_sorting, scale=alt.Scale(\n",
    "            domain=yield_domain, \n",
    "            nice=False\n",
    "        ), \n",
    "        title='Specific sediment yield (kt / km² / yr)'\n",
    "    ),\n",
    "    alt.Color(\"Fork of the Nooksack River:N\", scale = alt.Scale(\n",
    "        domain = [\n",
    "            'Does not drain to Nooksack River',\n",
    "            \"North Fork\",\n",
    "            \"Middle Fork\"\n",
    "        ],\n",
    "        range = ['#282828', '#808080' , '#DCDCDC'])\n",
    "    )\n",
    ")\n",
    "error_bars = base.mark_bar(width=2, color='black', stroke='white').encode(\n",
    "        alt.Y(\"Lower CI normalized:Q\", scale=alt.Scale(\n",
    "                domain=volume_domain, \n",
    "                nice=False\n",
    "            ), \n",
    "            title='', axis=alt.Axis(labels=False)\n",
    "        ),\n",
    "    alt.Y2(\"Upper CI normalized:Q\", title='')\n",
    ")\n",
    "alt.layer(\n",
    "    volume, \n",
    "    sedyield, \n",
    "    error_bars\n",
    ").resolve_scale(y='independent').configure_legend(\n",
    "    titleFontSize=12,\n",
    "    labelFontSize=12,\n",
    "    orient='top'\n",
    ").configure_axis(\n",
    "    labelFontSize=12,\n",
    "    titleFontSize=14,\n",
    "    titleFontWeight='normal'\n",
    ")"
   ]
  },
  {
   "cell_type": "code",
   "execution_count": null,
   "metadata": {},
   "outputs": [],
   "source": [
    "\n",
    "\n",
    "fig_width=200\n",
    "fig_height=300\n",
    "yield_domain = [-50, 168.99999999999997]\n",
    "volume_domain = [-29585.79881656805/1000, 100]\n",
    "\n",
    "src = net_measurements.drop(columns=['time interval']).drop(columns='index')\n",
    "src['Annual Mass Wasted'] = -src['Annual Mass Wasted']/1000\n",
    "src['Lower CI'] = -src['Lower CI']/1000\n",
    "src['Upper CI'] = -src['Upper CI']/1000\n",
    "src['Lower CI sediment yield'] = -src['Lower CI sediment yield']/1000\n",
    "src['Upper CI sediment yield'] = -src['Upper CI sediment yield']/1000\n",
    "\n",
    "src['sediment yield (t / yr)'] = src['sediment yield (t / yr)']/1000\n",
    "\n",
    "src_bounding = src[src['named interval'] == 'bounding']\n",
    "base = alt.Chart(src_bounding).encode(alt.X(\"Valley Name\", axis=alt.Axis(labelAngle = -60), sort=valley_sorting)).properties(width=fig_width, height=fig_height)\n",
    "volume = base.mark_bar().encode(\n",
    "    alt.Y(\"Annual Mass Wasted:Q\", title='Annual sediment yield (10³ m³/yr)', sort=valley_sorting, scale=alt.Scale(domain=volume_domain, nice=False)),\n",
    "    alt.Color(\"Fork of the Nooksack River:N\")\n",
    ")\n",
    "sedyield = base.mark_bar().encode(\n",
    "    alt.Y(\"sediment yield (t / yr):Q\", sort=valley_sorting, scale=alt.Scale(domain=yield_domain, nice=False), title='Annual sediment yield (kt / yr)'),\n",
    "    alt.Color(\"Fork of the Nooksack River:N\", scale = alt.Scale(\n",
    "        domain = [\n",
    "            'Does not drain to Nooksack River',\n",
    "            \"North Fork\",\n",
    "            \"Middle Fork\"\n",
    "        ],\n",
    "        range = ['#282828', '#808080' , '#DCDCDC'])\n",
    "    )\n",
    ")\n",
    "error_bars = base.mark_bar(width=2, color='black', stroke='white').encode(\n",
    "        alt.Y(\"Lower CI:Q\", scale=alt.Scale(domain=volume_domain, nice=False), title='', axis=alt.Axis(labels=False)),\n",
    "    alt.Y2(\"Upper CI:Q\", title='')\n",
    ")\n",
    "bounding_chart = alt.layer(volume, sedyield, error_bars).resolve_scale(y='independent')\n",
    "\n",
    "src_advance = src[src['named interval'] == 'advance']\n",
    "base = alt.Chart(src_advance).encode(alt.X(\"Valley Name\", axis=alt.Axis(labelAngle = -60), sort=valley_sorting)).properties(width=fig_width, height=fig_height)\n",
    "volume = base.mark_bar().encode(\n",
    "    alt.Y(\"Annual Mass Wasted:Q\", title='Annual sediment yield (10³ m³/yr)', sort=valley_sorting, scale=alt.Scale(domain=volume_domain, nice=False)),\n",
    "    alt.Color(\"Fork of the Nooksack River:N\")\n",
    ")\n",
    "sedyield = base.mark_bar().encode(\n",
    "    alt.Y(\"sediment yield (t / yr):Q\", sort=valley_sorting, scale=alt.Scale(domain=yield_domain, nice=False), title='Annual sediment yield (kt / yr)'),\n",
    "    alt.Color(\"Fork of the Nooksack River:N\")\n",
    ")\n",
    "error_bars = base.mark_bar(width=2, color='black').encode(\n",
    "        alt.Y(\"Lower CI:Q\", scale=alt.Scale(domain=volume_domain, nice=False), title='', axis=alt.Axis(labels=False)),\n",
    "    alt.Y2(\"Upper CI:Q\", title='')\n",
    ")\n",
    "advance_chart = alt.layer(volume, sedyield, error_bars).resolve_scale(y='independent')\n",
    "\n",
    "\n",
    "src_retreat = src[src['named interval'] == 'retreat']\n",
    "base = alt.Chart(src_retreat).encode(alt.X(\"Valley Name\", axis=alt.Axis(labelAngle = -60), sort=valley_sorting)).properties(width=fig_width, height=fig_height)\n",
    "volume = base.mark_bar().encode(\n",
    "    alt.Y(\"Annual Mass Wasted:Q\", title='Annual sediment yield (10³ m³/yr)', sort=valley_sorting, scale=alt.Scale(domain=volume_domain, nice=False)),\n",
    "    alt.Color(\"Fork of the Nooksack River:N\")\n",
    ")\n",
    "sedyield = base.mark_bar().encode(\n",
    "    alt.Y(\"sediment yield (t / yr):Q\", sort=valley_sorting, scale=alt.Scale(domain=yield_domain, nice=False), title='Annual sediment yield (kt / yr)'),\n",
    "    alt.Color(\"Fork of the Nooksack River:N\")\n",
    ")\n",
    "error_bars = base.mark_bar(width=2, color='black').encode(\n",
    "    alt.Y(\"Lower CI:Q\", scale=alt.Scale(domain=volume_domain, nice=False), title='', axis=alt.Axis(labels=False)),\n",
    "    alt.Y2(\"Upper CI:Q\", title='')\n",
    ")\n",
    "retreat_chart = alt.layer(volume, sedyield, error_bars).resolve_scale(y='independent')\n",
    "\n",
    "(\n",
    "    bounding_chart | \n",
    "    advance_chart | \n",
    "    retreat_chart\n",
    ").configure_legend(titleFontSize=12, labelFontSize=12, orient='top').configure_axis(labelFontSize=12, titleFontSize=14, titleFontWeight='normal')"
   ]
  },
  {
   "attachments": {},
   "cell_type": "markdown",
   "metadata": {},
   "source": [
    "## Save data to csv"
   ]
  },
  {
   "cell_type": "code",
   "execution_count": null,
   "metadata": {},
   "outputs": [],
   "source": [
    "src[[\n",
    "'Valley Name',\n",
    "'Fork of the Nooksack River',\n",
    "'named interval',\n",
    "'Annual Mass Wasted',\n",
    "'Lower CI',\n",
    "'Upper CI',\n",
    "'Lower CI sediment yield',\n",
    "'Upper CI sediment yield',\n",
    "'sediment yield (t / yr)',\n",
    "]].to_csv('outputs/final_figures_data/volumes_and_yields_per_valley.csv')"
   ]
  },
  {
   "attachments": {},
   "cell_type": "markdown",
   "metadata": {},
   "source": [
    "### Merge in longitudinal slope data"
   ]
  },
  {
   "cell_type": "code",
   "execution_count": null,
   "metadata": {},
   "outputs": [],
   "source": [
    "net_measurements = net_measurements.merge(\n",
    "    cleaned_longitudinal_slope_df, \n",
    "    on='Valley Name'\n",
    ")"
   ]
  },
  {
   "attachments": {},
   "cell_type": "markdown",
   "metadata": {},
   "source": [
    "## Keep only the bounding data"
   ]
  },
  {
   "cell_type": "code",
   "execution_count": null,
   "metadata": {},
   "outputs": [],
   "source": [
    "net_measurements = net_measurements[net_measurements['named interval'] == 'bounding']"
   ]
  },
  {
   "cell_type": "code",
   "execution_count": null,
   "metadata": {},
   "outputs": [],
   "source": [
    "net_measurements = net_measurements[[\n",
    "    'Valley Name',\n",
    "    'watershed area (square km)', # A, could also use the column \"drainage area (km)\" instead\n",
    "    'longitudinal slope 2015', # S_c\n",
    "    'slope hillslope erosion area', # S_h\n",
    "    'glacial retreat absolute', # ∆A_g\n",
    "    'glacial area 1977/79', #A_g\n",
    "    'nonigneous fraction',\n",
    "    'sediment yield (t / yr)', #Q_s\n",
    "    'sediment yield normalized (t / km^2 / yr)',\n",
    "    'Upper CI sediment yield',\n",
    "    'Lower CI sediment yield',\n",
    "    'Upper CI sediment yield normalized',\n",
    "    'Lower CI sediment yield normalized'\n",
    "]]\n",
    "net_measurements['glacial retreat absolute'] = -net_measurements['glacial retreat absolute']\n",
    "net_measurements['glacial retreat relative'] = net_measurements['glacial retreat absolute'] / net_measurements['glacial area 1977/79']"
   ]
  },
  {
   "cell_type": "code",
   "execution_count": null,
   "metadata": {},
   "outputs": [],
   "source": [
    "net_measurements"
   ]
  },
  {
   "attachments": {},
   "cell_type": "markdown",
   "metadata": {},
   "source": [
    "# Plot Scatterplots"
   ]
  },
  {
   "attachments": {},
   "cell_type": "markdown",
   "metadata": {},
   "source": [
    "## Prep Data"
   ]
  },
  {
   "attachments": {},
   "cell_type": "markdown",
   "metadata": {},
   "source": [
    "### rename columns (for plotting convenience)"
   ]
  },
  {
   "cell_type": "code",
   "execution_count": null,
   "metadata": {},
   "outputs": [],
   "source": [
    "net_measurements = net_measurements.rename(columns={\n",
    "    'sediment yield (t / yr)': 'Sediment Yield (ton/yr)',\n",
    "    'watershed area (square km)': 'Drainage area (square km)',\n",
    "    'longitudinal slope 2015': 'Channel slope',\n",
    "    'slope hillslope erosion area': 'Hillslope domain slope',\n",
    "    'glacial retreat absolute': 'Glacial retreat area (km²)',\n",
    "    'nonigneous fraction': 'Nonigneous fraction',  \n",
    "    'sediment yield normalized (t / km^2 / yr)' : 'Sediment Yield (ton/km²/yr)' \n",
    "})\n",
    "\n",
    "\n",
    "net_measurements"
   ]
  },
  {
   "attachments": {},
   "cell_type": "markdown",
   "metadata": {},
   "source": [
    "### Convert slopes to tan of slopes"
   ]
  },
  {
   "cell_type": "code",
   "execution_count": null,
   "metadata": {},
   "outputs": [],
   "source": [
    "print([f for f in net_measurements.columns if 'slope' in f])\n",
    "for slope_col in [f for f in net_measurements.columns if 'slope' in f]:\n",
    "    net_measurements[slope_col + ' (degrees)'] = net_measurements[slope_col]\n",
    "    net_measurements[slope_col] = np.tan(np.deg2rad(net_measurements[slope_col]))\n",
    "\n",
    "net_measurements"
   ]
  },
  {
   "attachments": {},
   "cell_type": "markdown",
   "metadata": {},
   "source": [
    "## Plot sediment yield vs explanatory variables"
   ]
  },
  {
   "cell_type": "code",
   "execution_count": null,
   "metadata": {},
   "outputs": [],
   "source": [
    "circles_y = alt.Chart().mark_point(size=100, strokeWidth=2).encode(\n",
    "    alt.Y('Sediment Yield (ton/yr):Q'),\n",
    "    alt.Color('Valley Name:N')\n",
    ")\n",
    "points_y = alt.Chart().mark_circle(size=110).encode(\n",
    "    alt.Y('Sediment Yield (ton/yr):Q'),\n",
    "    alt.Color('Valley Name:N')\n",
    ")\n",
    "bars_y = alt.Chart().mark_line().encode(\n",
    "    alt.Y('Lower CI sediment yield'),\n",
    "    alt.Y2('Upper CI sediment yield'),\n",
    "    alt.Color('Valley Name:N')\n",
    ")\n",
    "\n",
    "darea = alt.layer(\n",
    "    points_y.transform_filter(alt.FieldGTEPredicate('Sediment Yield (ton/yr)', 0)).encode(alt.X('Drainage area (square km):Q')), \n",
    "    circles_y.transform_filter(alt.FieldLTPredicate('Sediment Yield (ton/yr)', 0)).encode(alt.X('Drainage area (square km):Q')), \n",
    "    bars_y.encode(alt.X('Drainage area (square km):Q')), \n",
    "    data=net_measurements\n",
    ").properties(\n",
    "    width=200, height=200\n",
    ")\n",
    "\n",
    "channelslope = alt.layer(\n",
    "    points_y.transform_filter(alt.FieldGTEPredicate('Sediment Yield (ton/yr)', 0)).encode(alt.X('Channel slope:Q')), \n",
    "    circles_y.transform_filter(alt.FieldLTPredicate('Sediment Yield (ton/yr)', 0)).encode(alt.X('Channel slope:Q')), \n",
    "    bars_y.encode(alt.X('Channel slope:Q', scale=alt.Scale(zero=False))),\n",
    "    data=net_measurements\n",
    ").properties(\n",
    "    width=200, height=200\n",
    ")\n",
    "\n",
    "hillslope = alt.layer(\n",
    "    points_y.transform_filter(alt.FieldGTEPredicate('Sediment Yield (ton/yr)', 0)).encode(alt.X('Hillslope domain slope:Q')), \n",
    "    circles_y.transform_filter(alt.FieldLTPredicate('Sediment Yield (ton/yr)', 0)).encode(alt.X('Hillslope domain slope:Q')), \n",
    "    bars_y.encode(alt.X('Hillslope domain slope:Q', scale=alt.Scale(zero=False))),\n",
    "    data=net_measurements\n",
    ").properties(\n",
    "    width=200, height=200\n",
    ")\n",
    "\n",
    "glacialretreat = alt.layer(\n",
    "    points_y.transform_filter(alt.FieldGTEPredicate('Sediment Yield (ton/yr)', 0)).encode(alt.X('Glacial retreat area (km²):Q')), \n",
    "    circles_y.transform_filter(alt.FieldLTPredicate('Sediment Yield (ton/yr)', 0)).encode(alt.X('Glacial retreat area (km²):Q')), \n",
    "    bars_y.encode(alt.X('Glacial retreat area (km²):Q')),\n",
    "    data=net_measurements\n",
    ").properties(\n",
    "    width=200, height=200\n",
    ")\n",
    "\n",
    "lithology = alt.layer(\n",
    "    points_y.transform_filter(alt.FieldGTEPredicate('Sediment Yield (ton/yr)', 0)).encode(alt.X('Nonigneous fraction:Q')), \n",
    "    circles_y.transform_filter(alt.FieldLTPredicate('Sediment Yield (ton/yr)', 0)).encode(alt.X('Nonigneous fraction:Q')), \n",
    "    bars_y.encode(alt.X('Nonigneous fraction:Q')),\n",
    "    data=net_measurements\n",
    ").properties(\n",
    "    width=200, height=200\n",
    ")\n",
    "\n",
    "darea | channelslope | hillslope | glacialretreat | lithology"
   ]
  },
  {
   "attachments": {},
   "cell_type": "markdown",
   "metadata": {},
   "source": [
    "## Plot specific sediment yield vs explanatory variables"
   ]
  },
  {
   "cell_type": "code",
   "execution_count": null,
   "metadata": {},
   "outputs": [],
   "source": [
    "circles_y = alt.Chart().mark_point(size=100, strokeWidth=2).encode(\n",
    "    alt.Y('Sediment Yield (ton/km²/yr):Q'),\n",
    "    alt.Color('Valley Name:N')\n",
    ")\n",
    "points_y = alt.Chart().mark_circle(size=110).encode(\n",
    "    alt.Y('Sediment Yield (ton/km²/yr):Q'),\n",
    "    alt.Color('Valley Name:N')\n",
    ")\n",
    "bars_y = alt.Chart().mark_line().encode(\n",
    "    alt.Y('Lower CI sediment yield normalized'),\n",
    "    alt.Y2('Upper CI sediment yield normalized'),\n",
    "    alt.Color('Valley Name:N')\n",
    ")\n",
    "\n",
    "darea_normalized = alt.layer(\n",
    "    points_y.transform_filter(alt.FieldGTEPredicate('Sediment Yield (ton/km²/yr)', 0)).encode(alt.X('Drainage area (square km):Q')), \n",
    "    circles_y.transform_filter(alt.FieldLTPredicate('Sediment Yield (ton/km²/yr)', 0)).encode(alt.X('Drainage area (square km):Q')), \n",
    "    bars_y.encode(alt.X('Drainage area (square km):Q')), \n",
    "    data=net_measurements\n",
    ").properties(\n",
    "    width=200, height=200\n",
    ")\n",
    "\n",
    "channelslope_normalized = alt.layer(\n",
    "    points_y.transform_filter(alt.FieldGTEPredicate('Sediment Yield (ton/km²/yr)', 0)).encode(alt.X('Channel slope:Q')), \n",
    "    circles_y.transform_filter(alt.FieldLTPredicate('Sediment Yield (ton/km²/yr)', 0)).encode(alt.X('Channel slope:Q')), \n",
    "    bars_y.encode(alt.X('Channel slope:Q', scale=alt.Scale(zero=False))),\n",
    "    data=net_measurements\n",
    ").properties(\n",
    "    width=200, height=200\n",
    ")\n",
    "\n",
    "hillslope_normalized = alt.layer(\n",
    "    points_y.transform_filter(alt.FieldGTEPredicate('Sediment Yield (ton/km²/yr)', 0)).encode(alt.X('Hillslope domain slope:Q')), \n",
    "    circles_y.transform_filter(alt.FieldLTPredicate('Sediment Yield (ton/km²/yr)', 0)).encode(alt.X('Hillslope domain slope:Q')), \n",
    "    bars_y.encode(alt.X('Hillslope domain slope:Q', scale=alt.Scale(zero=False))),\n",
    "    data=net_measurements\n",
    ").properties(\n",
    "    width=200, height=200\n",
    ")\n",
    "\n",
    "glacialretreat_normalized = alt.layer(\n",
    "    points_y.transform_filter(alt.FieldGTEPredicate('Sediment Yield (ton/km²/yr)', 0)).encode(alt.X('Glacial retreat area (km²):Q')), \n",
    "    circles_y.transform_filter(alt.FieldLTPredicate('Sediment Yield (ton/km²/yr)', 0)).encode(alt.X('Glacial retreat area (km²):Q')), \n",
    "    bars_y.encode(alt.X('Glacial retreat area (km²):Q')),\n",
    "    data=net_measurements\n",
    ").properties(\n",
    "    width=200, height=200\n",
    ")\n",
    "\n",
    "lithology_normalized = alt.layer(\n",
    "    points_y.transform_filter(alt.FieldGTEPredicate('Sediment Yield (ton/km²/yr)', 0)).encode(alt.X('Nonigneous fraction:Q')), \n",
    "    circles_y.transform_filter(alt.FieldLTPredicate('Sediment Yield (ton/km²/yr)', 0)).encode(alt.X('Nonigneous fraction:Q')), \n",
    "    bars_y.encode(alt.X('Nonigneous fraction:Q')),\n",
    "    data=net_measurements\n",
    ").properties(\n",
    "    width=200, height=200\n",
    ")\n",
    "\n",
    "darea_normalized | channelslope_normalized | hillslope_normalized | glacialretreat_normalized | lithology_normalized"
   ]
  },
  {
   "attachments": {},
   "cell_type": "markdown",
   "metadata": {},
   "source": [
    "## Plot explanatory variables interactions"
   ]
  },
  {
   "cell_type": "code",
   "execution_count": null,
   "metadata": {},
   "outputs": [],
   "source": [
    "(\n",
    "    alt.Chart(net_measurements).mark_circle(size=100).encode(\n",
    "        alt.Y('Drainage area (square km):Q', title='Drainage area (km²)', scale=alt.Scale(zero=False)),\n",
    "        alt.X(\"Nonigneous fraction:Q\",),\n",
    "        alt.Color(\"Valley Name:N\")\n",
    "    ).properties(\n",
    "        width=200, height=200\n",
    "    ) | \\\n",
    "    alt.Chart(net_measurements).mark_circle(size=100).encode(\n",
    "        alt.Y('Channel slope:Q', scale=alt.Scale(zero=False)),\n",
    "        alt.X(\"Nonigneous fraction:Q\",),\n",
    "        alt.Color(\"Valley Name:N\")\n",
    "    ).properties(\n",
    "        width=200, height=200\n",
    "    ) | \\\n",
    "    alt.Chart(net_measurements).mark_circle(size=100).encode(\n",
    "        alt.Y('Hillslope domain slope:Q', scale=alt.Scale(zero=False)),\n",
    "        alt.X(\"Nonigneous fraction:Q\",),\n",
    "        alt.Color(\"Valley Name:N\")\n",
    "    ).properties(\n",
    "        width=200, height=200\n",
    "    ) | \\\n",
    "    alt.Chart(net_measurements).mark_circle(size=100).encode(\n",
    "        alt.Y('Glacial retreat area (km²):Q', scale=alt.Scale(zero=False)),\n",
    "        alt.X(\"Nonigneous fraction:Q\",),\n",
    "        alt.Color(\"Valley Name:N\")\n",
    "    ).properties(\n",
    "        width=200, height=200\n",
    "    )\n",
    "\n",
    "\n",
    ").configure_legend(\n",
    "    titleFontSize=22, labelFontSize=22, orient='top'\n",
    ").configure_axis(\n",
    "    labelFontSize=16, titleFontSize=16\n",
    ").configure_title(\n",
    "    fontSize=22\n",
    ")"
   ]
  },
  {
   "attachments": {},
   "cell_type": "markdown",
   "metadata": {},
   "source": [
    "# Modeling"
   ]
  },
  {
   "cell_type": "code",
   "execution_count": null,
   "metadata": {},
   "outputs": [],
   "source": [
    "model_data = net_measurements.copy()"
   ]
  },
  {
   "attachments": {},
   "cell_type": "markdown",
   "metadata": {},
   "source": [
    "## Save Model Data to CSV"
   ]
  },
  {
   "cell_type": "code",
   "execution_count": null,
   "metadata": {},
   "outputs": [],
   "source": [
    "model_data.to_csv(\"outputs/modeling_powerlaw_data.csv\")"
   ]
  },
  {
   "attachments": {},
   "cell_type": "markdown",
   "metadata": {},
   "source": [
    "## Remove net depositional data points"
   ]
  },
  {
   "cell_type": "code",
   "execution_count": null,
   "metadata": {},
   "outputs": [],
   "source": [
    "model_data = model_data[model_data[\"Sediment Yield (ton/yr)\"] > 0]"
   ]
  },
  {
   "cell_type": "code",
   "execution_count": null,
   "metadata": {},
   "outputs": [],
   "source": [
    "model_data['Valley Name'].unique()"
   ]
  },
  {
   "attachments": {},
   "cell_type": "markdown",
   "metadata": {},
   "source": [
    "## Remove two outlier basins"
   ]
  },
  {
   "cell_type": "code",
   "execution_count": null,
   "metadata": {},
   "outputs": [],
   "source": [
    "# model_data = model_data[~model_data['Valley Name'].isin(['Boulder', 'Thunder'])]"
   ]
  },
  {
   "cell_type": "code",
   "execution_count": null,
   "metadata": {},
   "outputs": [],
   "source": [
    "model_data['Valley Name'].unique()"
   ]
  },
  {
   "attachments": {},
   "cell_type": "markdown",
   "metadata": {},
   "source": [
    "## Create Models"
   ]
  },
  {
   "cell_type": "code",
   "execution_count": null,
   "metadata": {},
   "outputs": [],
   "source": [
    "parameters_dict_powerlaw = {}\n",
    "parameters_dict_linear = {}\n",
    "\n",
    "parameters_dict_powerlaw_normalized = {}\n",
    "parameters_dict_linear_normalized = {}"
   ]
  },
  {
   "attachments": {},
   "cell_type": "markdown",
   "metadata": {},
   "source": [
    "### Define Power law models"
   ]
  },
  {
   "cell_type": "code",
   "execution_count": null,
   "metadata": {},
   "outputs": [],
   "source": [
    "def model_1_powerlaw(x, k, l):\n",
    "    \"\"\"\n",
    "    Args:\n",
    "        x (float): drainage area\n",
    "    \"\"\"\n",
    "    return k*x**l\n",
    "\n",
    "def model_2_powerlaw(x, k, m):\n",
    "    \"\"\"\n",
    "    Args:\n",
    "        x (float): channel slope\n",
    "    \"\"\"\n",
    "    return k*x**m\n",
    "\n",
    "def model_3_powerlaw(x, k, n):\n",
    "    \"\"\"\n",
    "    Args:\n",
    "        x (float): hillslope slope\n",
    "    \"\"\"\n",
    "    return k*x**n\n",
    "\n",
    "def model_4_powerlaw(x, k, p):\n",
    "    \"\"\"\n",
    "    Args:\n",
    "        x (float): glacier area change\n",
    "    \"\"\"\n",
    "    return k*x**p\n",
    "\n",
    "def model_5_powerlaw(x, k, q):\n",
    "    \"\"\"\n",
    "    Args:\n",
    "        x (float): nonigneous fraction\n",
    "    \"\"\"\n",
    "    return k*x**q\n",
    "\n",
    "def model_6_powerlaw(x, k, l, n):\n",
    "    \"\"\"\n",
    "    Args:\n",
    "        x (list(float))): [drainage area, hillslope slope]\n",
    "    \"\"\"\n",
    "    return k*(x[0]**l)*(x[1]**n)\n",
    "\n",
    "def model_7_powerlaw(x, k, l, n, p):\n",
    "    \"\"\"\n",
    "    Args:\n",
    "        x (list(float))): [drainage area, hillslope slope, glacier area change]\n",
    "    \"\"\"\n",
    "    return k*(x[0]**l)*(x[1]**n)*(x[2]**p)\n",
    "\n",
    "# def model7(x, k, l, m, n):\n",
    "#     \"\"\"\n",
    "#     Args:\n",
    "#         x (list(float))): [drainage area, channel slope, hillslope slope]\n",
    "#     \"\"\"\n",
    "#     return k*(x[0]**l)*(x[1]**m)*(x[2]**n)\n",
    "\n",
    "# def model8(x, k, l, m, n, p):\n",
    "#     \"\"\"\n",
    "#     Args:\n",
    "#         x (list(float))): [drainage area, channel slope, hillslope slope, glacier area change]\n",
    "#     \"\"\"\n",
    "#     return k*(x[0]**l)*(x[1]**m)*(x[2]**n)*(x[3]**p)"
   ]
  },
  {
   "attachments": {},
   "cell_type": "markdown",
   "metadata": {},
   "source": [
    "### Define linear models"
   ]
  },
  {
   "cell_type": "code",
   "execution_count": null,
   "metadata": {},
   "outputs": [],
   "source": [
    "def model_1_linear(x, l, i):\n",
    "    \"\"\"\n",
    "    Args:\n",
    "        x (float): drainage area\n",
    "    \"\"\"\n",
    "    return l*x + i\n",
    "\n",
    "def model_2_linear(x, m, i):\n",
    "    \"\"\"\n",
    "    Args:\n",
    "        x (float): channel slope\n",
    "    \"\"\"\n",
    "    return m*x + i\n",
    "\n",
    "def model_3_linear(x, n, i):\n",
    "    \"\"\"\n",
    "    Args:\n",
    "        x (float): hillslope slope\n",
    "    \"\"\"\n",
    "    return n*x\n",
    "\n",
    "def model_4_linear(x, p, i):\n",
    "    \"\"\"\n",
    "    Args:\n",
    "        x (float): glacier area change\n",
    "    \"\"\"\n",
    "    return p*x + i\n",
    "\n",
    "def model_5_linear(x, q, i):\n",
    "    \"\"\"\n",
    "    Args:\n",
    "        x (float): nonigneous fraction\n",
    "    \"\"\"\n",
    "    return q*x + i\n",
    "\n",
    "def model_6_linear(x, l, n, i):\n",
    "    \"\"\"\n",
    "    Args:\n",
    "        x (list(float))): [drainage area, hillslope slope]\n",
    "    \"\"\"\n",
    "    return l*x[0] + n*x[1] + i\n",
    "\n",
    "def model_7_linear(x, l, n, p, i):\n",
    "    \"\"\"\n",
    "    Args:\n",
    "        x (list(float))): [drainage area, hillslope slope, glacier area change]\n",
    "    \"\"\"\n",
    "    return l*x[0] + n*x[1] + p*x[2] + i"
   ]
  },
  {
   "attachments": {},
   "cell_type": "markdown",
   "metadata": {},
   "source": [
    "## Run Models"
   ]
  },
  {
   "attachments": {},
   "cell_type": "markdown",
   "metadata": {},
   "source": [
    "#### Model 1"
   ]
  },
  {
   "cell_type": "code",
   "execution_count": null,
   "metadata": {},
   "outputs": [],
   "source": [
    "popt_powerlaw"
   ]
  },
  {
   "cell_type": "code",
   "execution_count": null,
   "metadata": {},
   "outputs": [],
   "source": [
    "model_1_data = model_data.copy()\n",
    "\n",
    "\n",
    "\n",
    "popt_powerlaw, pcov_powerlaw = scipy.optimize.curve_fit(\n",
    "    model_1_powerlaw, \n",
    "    model_1_data['Drainage area (square km)'].to_list(),\n",
    "    model_1_data['Sediment Yield (ton/yr)'].to_list()\n",
    ")\n",
    "\n",
    "popt_powerlaw = [385.93, 2.0287]\n",
    "\n",
    "popt_linear, pcov_linear = scipy.optimize.curve_fit(\n",
    "    model_1_linear, \n",
    "    model_1_data['Drainage area (square km)'].to_list(),\n",
    "    model_1_data['Sediment Yield (ton/yr)'].to_list()\n",
    ")\n",
    "\n",
    "model_1_data['Power law predicted sediment yield (ton/yr)'] = model_1_data.apply(\n",
    "    lambda row: model_1_powerlaw(row['Drainage area (square km)'], popt_powerlaw[0], popt_powerlaw[1]),\n",
    "    axis=1\n",
    ")\n",
    "\n",
    "model_1_data['Linear predicted sediment yield (ton/yr)'] = model_1_data.apply(\n",
    "    lambda row: model_1_linear(row['Drainage area (square km)'], popt_linear[0], popt_linear[1]),\n",
    "    axis=1\n",
    ")\n",
    "\n",
    "parameters_dict_powerlaw[1] = popt_powerlaw\n",
    "parameters_dict_linear[1] = popt_linear\n",
    "\n",
    "model_1_plot_linear = r2_plot(model_1_data, 'Linear predicted sediment yield (ton/yr)', 'Sediment Yield (ton/yr)', limit=100000)\n",
    "model_1_plot_powerlaw = r2_plot(model_1_data, 'Power law predicted sediment yield (ton/yr)', 'Sediment Yield (ton/yr)', limit=100000)\n",
    "\n",
    "model_1_plot_linear | model_1_plot_powerlaw"
   ]
  },
  {
   "attachments": {},
   "cell_type": "markdown",
   "metadata": {},
   "source": [
    "#### Model 1 SSY"
   ]
  },
  {
   "cell_type": "code",
   "execution_count": null,
   "metadata": {},
   "outputs": [],
   "source": [
    "model_1_data_normalized = model_data.copy()\n",
    "\n",
    "popt_powerlaw, pcov_powerlaw = scipy.optimize.curve_fit(\n",
    "    model_1_powerlaw, \n",
    "    model_1_data_normalized['Drainage area (square km)'].to_list(),\n",
    "    model_1_data_normalized['Sediment Yield (ton/km²/yr)'].to_list()\n",
    ")\n",
    "\n",
    "popt_linear, pcov_linear = scipy.optimize.curve_fit(\n",
    "    model_1_linear, \n",
    "    model_1_data_normalized['Drainage area (square km)'].to_list(),\n",
    "    model_1_data_normalized['Sediment Yield (ton/km²/yr)'].to_list()\n",
    ")\n",
    "\n",
    "model_1_data_normalized['Power law predicted sediment yield (ton/km²/yr)'] = model_1_data_normalized.apply(\n",
    "    lambda row: model_1_powerlaw(row['Drainage area (square km)'], popt_powerlaw[0], popt_powerlaw[1]),\n",
    "    axis=1\n",
    ")\n",
    "\n",
    "model_1_data_normalized['Linear predicted sediment yield (ton/km²/yr)'] = model_1_data_normalized.apply(\n",
    "    lambda row: model_1_linear(row['Drainage area (square km)'], popt_linear[0], popt_linear[1]),\n",
    "    axis=1\n",
    ")\n",
    "\n",
    "parameters_dict_powerlaw_normalized[1] = popt_powerlaw\n",
    "parameters_dict_linear_normalized[1] = popt_linear\n",
    "\n",
    "model_1_plot_linear_normalized = r2_plot(model_1_data_normalized, 'Linear predicted sediment yield (ton/km²/yr)', 'Sediment Yield (ton/km²/yr)', limit=8000)\n",
    "model_1_plot_powerlaw_normalized = r2_plot(model_1_data_normalized, 'Power law predicted sediment yield (ton/km²/yr)', 'Sediment Yield (ton/km²/yr)', limit=8000)\n",
    "\n",
    "model_1_plot_linear_normalized | model_1_plot_powerlaw_normalized"
   ]
  },
  {
   "attachments": {},
   "cell_type": "markdown",
   "metadata": {},
   "source": [
    "#### Model 2"
   ]
  },
  {
   "cell_type": "code",
   "execution_count": null,
   "metadata": {},
   "outputs": [],
   "source": [
    "list(model_2_data['Channel slope'])\n",
    "\n",
    "0.09576051794295204\n",
    "0.08801007946008708\n",
    "0.19056247852466418\n",
    "0.20525334499275494\n",
    "0.17306165731237597\n",
    "0.11910990865642232\n",
    "0.12662431872566676\n",
    "0.13444887662357244"
   ]
  },
  {
   "cell_type": "code",
   "execution_count": null,
   "metadata": {},
   "outputs": [],
   "source": [
    "list(model_2_data['Sediment Yield (ton/yr)'])\n",
    "\n",
    "50359.14214972888\n",
    "71479.50487685582\n",
    "10853.02910758811\n",
    "4638.899524866833\n",
    "22240.34392858765\n",
    "88536.47126671483\n",
    "75451.03156821251\n",
    "79213.85364142025"
   ]
  },
  {
   "cell_type": "code",
   "execution_count": null,
   "metadata": {},
   "outputs": [],
   "source": [
    "model_2_data = model_data.copy()\n",
    "\n",
    "popt_powerlaw, pcov_powerlaw = scipy.optimize.curve_fit(\n",
    "    model_2_powerlaw, \n",
    "    model_2_data['Channel slope'].to_list(),\n",
    "    model_2_data['Sediment Yield (ton/yr)'].to_list(),\n",
    "    [106, -2.9],\n",
    "    method = 'trf'\n",
    ")\n",
    "\n",
    "popt_powerlaw = [106.36, -2.9]\n",
    "\n",
    "popt_linear, pcov_linear = scipy.optimize.curve_fit(\n",
    "    model_2_linear, \n",
    "    model_2_data['Channel slope'].to_list(),\n",
    "    model_2_data['Sediment Yield (ton/yr)'].to_list()\n",
    ")\n",
    "\n",
    "model_2_data['Power law predicted sediment yield (ton/yr)'] = model_2_data.apply(\n",
    "    lambda row: model_2_powerlaw(row['Channel slope'], popt_powerlaw[0], popt_powerlaw[1]),\n",
    "    axis=1\n",
    ")\n",
    "\n",
    "model_2_data['Linear predicted sediment yield (ton/yr)'] = model_2_data.apply(\n",
    "    lambda row: model_2_linear(row['Channel slope'], popt_linear[0], popt_linear[1]),\n",
    "    axis=1\n",
    ")\n",
    "\n",
    "parameters_dict_powerlaw[2] = popt_powerlaw\n",
    "parameters_dict_linear[2] = popt_linear\n",
    "\n",
    "model_2_plot_linear = r2_plot(model_2_data, 'Linear predicted sediment yield (ton/yr)', 'Sediment Yield (ton/yr)', limit=100000)\n",
    "model_2_plot_powerlaw = r2_plot(model_2_data, 'Power law predicted sediment yield (ton/yr)', 'Sediment Yield (ton/yr)', limit=100000)\n",
    "\n",
    "model_2_plot_linear | model_2_plot_powerlaw"
   ]
  },
  {
   "attachments": {},
   "cell_type": "markdown",
   "metadata": {},
   "source": [
    "#### Model 2 SSY"
   ]
  },
  {
   "cell_type": "code",
   "execution_count": null,
   "metadata": {},
   "outputs": [],
   "source": [
    "model_2_data_normalized = model_data.copy()\n",
    "\n",
    "popt_powerlaw, pcov_powerlaw = scipy.optimize.curve_fit(\n",
    "    model_2_powerlaw, \n",
    "    model_2_data_normalized['Channel slope'].to_list(),\n",
    "    model_2_data_normalized['Sediment Yield (ton/km²/yr)'].to_list()\n",
    ")\n",
    "\n",
    "popt_linear, pcov_linear = scipy.optimize.curve_fit(\n",
    "    model_2_linear, \n",
    "    model_2_data_normalized['Channel slope'].to_list(),\n",
    "    model_2_data_normalized['Sediment Yield (ton/km²/yr)'].to_list()\n",
    ")\n",
    "\n",
    "model_2_data_normalized['Power law predicted sediment yield (ton/km²/yr)'] = model_2_data_normalized.apply(\n",
    "    lambda row: model_2_powerlaw(row['Channel slope'], popt_powerlaw[0], popt_powerlaw[1]),\n",
    "    axis=1\n",
    ")\n",
    "\n",
    "model_2_data_normalized['Linear predicted sediment yield (ton/km²/yr)'] = model_2_data_normalized.apply(\n",
    "    lambda row: model_2_linear(row['Channel slope'], popt_linear[0], popt_linear[1]),\n",
    "    axis=1\n",
    ")\n",
    "\n",
    "parameters_dict_powerlaw_normalized[2] = popt_powerlaw\n",
    "parameters_dict_linear_normalized[2] = popt_linear\n",
    "\n",
    "model_2_plot_linear_normalized = r2_plot(model_2_data_normalized, 'Linear predicted sediment yield (ton/km²/yr)', 'Sediment Yield (ton/km²/yr)', limit=8000)\n",
    "model_2_plot_powerlaw_normalized = r2_plot(model_2_data_normalized, 'Power law predicted sediment yield (ton/km²/yr)', 'Sediment Yield (ton/km²/yr)', limit=8000)\n",
    "\n",
    "model_2_plot_linear_normalized | model_2_plot_powerlaw_normalized"
   ]
  },
  {
   "attachments": {},
   "cell_type": "markdown",
   "metadata": {},
   "source": [
    "#### Model 3"
   ]
  },
  {
   "cell_type": "code",
   "execution_count": null,
   "metadata": {},
   "outputs": [],
   "source": [
    "model_3_data = model_data.copy()\n",
    "\n",
    "\n",
    "\n",
    "popt_powerlaw, pcov_powerlaw = scipy.optimize.curve_fit(\n",
    "    model_3_powerlaw, \n",
    "    model_3_data['Hillslope domain slope'].to_list(),\n",
    "    model_3_data['Sediment Yield (ton/yr)'].to_list()\n",
    ")\n",
    "\n",
    "popt_powerlaw = [318055, 3.9142]\n",
    "\n",
    "popt_linear, pcov_linear = scipy.optimize.curve_fit(\n",
    "    model_3_linear, \n",
    "    model_3_data['Hillslope domain slope'].to_list(),\n",
    "    model_3_data['Sediment Yield (ton/yr)'].to_list()\n",
    ")\n",
    "\n",
    "model_3_data['Power law predicted sediment yield (ton/yr)'] = model_3_data.apply(\n",
    "    lambda row: model_3_powerlaw(row['Hillslope domain slope'], popt_powerlaw[0], popt_powerlaw[1]),\n",
    "    axis=1\n",
    ")\n",
    "\n",
    "model_3_data['Linear predicted sediment yield (ton/yr)'] = model_3_data.apply(\n",
    "    lambda row: model_3_linear(row['Hillslope domain slope'], popt_linear[0], popt_linear[1]),\n",
    "    axis=1\n",
    ")\n",
    "\n",
    "parameters_dict_powerlaw[3] = popt_powerlaw\n",
    "parameters_dict_linear[3] = popt_linear\n",
    "\n",
    "model_3_plot_linear = r2_plot(model_3_data, 'Linear predicted sediment yield (ton/yr)', 'Sediment Yield (ton/yr)', limit=100000)\n",
    "model_3_plot_powerlaw = r2_plot(model_3_data, 'Power law predicted sediment yield (ton/yr)', 'Sediment Yield (ton/yr)', limit=100000)\n",
    "\n",
    "model_3_plot_linear | model_3_plot_powerlaw"
   ]
  },
  {
   "attachments": {},
   "cell_type": "markdown",
   "metadata": {},
   "source": [
    "#### Model 3 SSY"
   ]
  },
  {
   "cell_type": "code",
   "execution_count": null,
   "metadata": {},
   "outputs": [],
   "source": [
    "model_3_data_normalized = model_data.copy()\n",
    "\n",
    "popt_powerlaw, pcov_powerlaw = scipy.optimize.curve_fit(\n",
    "    model_3_powerlaw, \n",
    "    model_3_data_normalized['Hillslope domain slope'].to_list(),\n",
    "    model_3_data_normalized['Sediment Yield (ton/km²/yr)'].to_list()\n",
    ")\n",
    "\n",
    "popt_linear, pcov_linear = scipy.optimize.curve_fit(\n",
    "    model_3_linear, \n",
    "    model_3_data_normalized['Hillslope domain slope'].to_list(),\n",
    "    model_3_data_normalized['Sediment Yield (ton/km²/yr)'].to_list()\n",
    ")\n",
    "\n",
    "model_3_data_normalized['Power law predicted sediment yield (ton/km²/yr)'] = model_3_data_normalized.apply(\n",
    "    lambda row: model_3_powerlaw(row['Hillslope domain slope'], popt_powerlaw[0], popt_powerlaw[1]),\n",
    "    axis=1\n",
    ")\n",
    "\n",
    "model_3_data_normalized['Linear predicted sediment yield (ton/km²/yr)'] = model_3_data_normalized.apply(\n",
    "    lambda row: model_3_linear(row['Hillslope domain slope'], popt_linear[0], popt_linear[1]),\n",
    "    axis=1\n",
    ")\n",
    "\n",
    "parameters_dict_powerlaw_normalized[3] = popt_powerlaw\n",
    "parameters_dict_linear_normalized[3] = popt_linear\n",
    "\n",
    "model_3_plot_linear_normalized = r2_plot(model_3_data_normalized, 'Linear predicted sediment yield (ton/km²/yr)', 'Sediment Yield (ton/km²/yr)', limit=8000)\n",
    "model_3_plot_powerlaw_normalized = r2_plot(model_3_data_normalized, 'Power law predicted sediment yield (ton/km²/yr)', 'Sediment Yield (ton/km²/yr)', limit=8000)\n",
    "\n",
    "model_3_plot_linear_normalized | model_3_plot_powerlaw_normalized"
   ]
  },
  {
   "attachments": {},
   "cell_type": "markdown",
   "metadata": {},
   "source": [
    "#### Model 4"
   ]
  },
  {
   "cell_type": "code",
   "execution_count": null,
   "metadata": {},
   "outputs": [],
   "source": [
    "model_4_data = model_data.copy()\n",
    "\n",
    "\n",
    "\n",
    "popt_powerlaw, pcov_powerlaw = scipy.optimize.curve_fit(\n",
    "    model_4_powerlaw, \n",
    "    model_4_data['Glacial retreat area (km²)'].to_list(),\n",
    "    model_4_data['Sediment Yield (ton/yr)'].to_list()\n",
    ")\n",
    "\n",
    "popt_linear, pcov_linear = scipy.optimize.curve_fit(\n",
    "    model_4_linear, \n",
    "    model_4_data['Glacial retreat area (km²)'].to_list(),\n",
    "    model_4_data['Sediment Yield (ton/yr)'].to_list()\n",
    ")\n",
    "\n",
    "model_4_data['Power law predicted sediment yield (ton/yr)'] = model_4_data.apply(\n",
    "    lambda row: model_4_powerlaw(row['Glacial retreat area (km²)'], popt_powerlaw[0], popt_powerlaw[1]),\n",
    "    axis=1\n",
    ")\n",
    "\n",
    "model_4_data['Linear predicted sediment yield (ton/yr)'] = model_4_data.apply(\n",
    "    lambda row: model_4_linear(row['Glacial retreat area (km²)'], popt_linear[0], popt_linear[1]),\n",
    "    axis=1\n",
    ")\n",
    "\n",
    "parameters_dict_powerlaw[4] = popt_powerlaw\n",
    "parameters_dict_linear[4] = popt_linear\n",
    "\n",
    "model_4_plot_linear = r2_plot(model_4_data, 'Linear predicted sediment yield (ton/yr)', 'Sediment Yield (ton/yr)', limit=100000)\n",
    "model_4_plot_powerlaw = r2_plot(model_4_data, 'Power law predicted sediment yield (ton/yr)', 'Sediment Yield (ton/yr)', limit=100000)\n",
    "\n",
    "model_4_plot_linear | model_4_plot_powerlaw"
   ]
  },
  {
   "attachments": {},
   "cell_type": "markdown",
   "metadata": {},
   "source": [
    "#### Model 4 SSY"
   ]
  },
  {
   "cell_type": "code",
   "execution_count": null,
   "metadata": {},
   "outputs": [],
   "source": [
    "model_4_data_normalized = model_data.copy()\n",
    "\n",
    "\n",
    "\n",
    "popt_powerlaw, pcov_powerlaw = scipy.optimize.curve_fit(\n",
    "    model_4_powerlaw, \n",
    "    model_4_data_normalized['Glacial retreat area (km²)'].to_list(),\n",
    "    model_4_data_normalized['Sediment Yield (ton/km²/yr)'].to_list()\n",
    ")\n",
    "\n",
    "popt_linear, pcov_linear = scipy.optimize.curve_fit(\n",
    "    model_4_linear, \n",
    "    model_4_data_normalized['Glacial retreat area (km²)'].to_list(),\n",
    "    model_4_data_normalized['Sediment Yield (ton/km²/yr)'].to_list()\n",
    ")\n",
    "\n",
    "model_4_data_normalized['Power law predicted sediment yield (ton/km²/yr)'] = model_4_data_normalized.apply(\n",
    "    lambda row: model_4_powerlaw(row['Glacial retreat area (km²)'], popt_powerlaw[0], popt_powerlaw[1]),\n",
    "    axis=1\n",
    ")\n",
    "\n",
    "model_4_data_normalized['Linear predicted sediment yield (ton/km²/yr)'] = model_4_data_normalized.apply(\n",
    "    lambda row: model_4_linear(row['Glacial retreat area (km²)'], popt_linear[0], popt_linear[1]),\n",
    "    axis=1\n",
    ")\n",
    "\n",
    "parameters_dict_powerlaw_normalized[4] = popt_powerlaw\n",
    "parameters_dict_linear_normalized[4] = popt_linear\n",
    "\n",
    "model_4_plot_linear_normalized = r2_plot(model_4_data_normalized, 'Linear predicted sediment yield (ton/km²/yr)', 'Sediment Yield (ton/km²/yr)', limit=8000)\n",
    "model_4_plot_powerlaw_normalized = r2_plot(model_4_data_normalized, 'Power law predicted sediment yield (ton/km²/yr)', 'Sediment Yield (ton/km²/yr)', limit=8000)\n",
    "\n",
    "model_4_plot_linear_normalized | model_4_plot_powerlaw_normalized"
   ]
  },
  {
   "attachments": {},
   "cell_type": "markdown",
   "metadata": {},
   "source": [
    "#### Model 5"
   ]
  },
  {
   "cell_type": "code",
   "execution_count": null,
   "metadata": {},
   "outputs": [],
   "source": [
    "model_5_data = model_data.copy()\n",
    "\n",
    "\n",
    "\n",
    "popt_powerlaw, pcov_powerlaw = scipy.optimize.curve_fit(\n",
    "    model_5_powerlaw, \n",
    "    model_5_data['Nonigneous fraction'].to_list(),\n",
    "    model_5_data['Sediment Yield (ton/yr)'].to_list()\n",
    ")\n",
    "\n",
    "popt_linear, pcov_linear = scipy.optimize.curve_fit(\n",
    "    model_5_linear, \n",
    "    model_5_data['Nonigneous fraction'].to_list(),\n",
    "    model_5_data['Sediment Yield (ton/yr)'].to_list()\n",
    ")\n",
    "\n",
    "model_5_data['Power law predicted sediment yield (ton/yr)'] = model_5_data.apply(\n",
    "    lambda row: model_5_powerlaw(row['Nonigneous fraction'], popt_powerlaw[0], popt_powerlaw[1]),\n",
    "    axis=1\n",
    ")\n",
    "\n",
    "model_5_data['Linear predicted sediment yield (ton/yr)'] = model_5_data.apply(\n",
    "    lambda row: model_5_linear(row['Nonigneous fraction'], popt_linear[0], popt_linear[1]),\n",
    "    axis=1\n",
    ")\n",
    "\n",
    "parameters_dict_powerlaw[5] = popt_powerlaw\n",
    "parameters_dict_linear[5] = popt_linear\n",
    "\n",
    "model_5_plot_linear = r2_plot(model_5_data, 'Linear predicted sediment yield (ton/yr)', 'Sediment Yield (ton/yr)', limit=100000)\n",
    "model_5_plot_powerlaw = r2_plot(model_5_data, 'Power law predicted sediment yield (ton/yr)', 'Sediment Yield (ton/yr)', limit=100000)\n",
    "\n",
    "model_5_plot_linear | model_5_plot_powerlaw"
   ]
  },
  {
   "attachments": {},
   "cell_type": "markdown",
   "metadata": {},
   "source": [
    "#### Model 5 SSY"
   ]
  },
  {
   "cell_type": "code",
   "execution_count": null,
   "metadata": {},
   "outputs": [],
   "source": [
    "model_5_data_normalized = model_data.copy()\n",
    "\n",
    "\n",
    "\n",
    "popt_powerlaw, pcov_powerlaw = scipy.optimize.curve_fit(\n",
    "    model_5_powerlaw, \n",
    "    model_5_data_normalized['Nonigneous fraction'].to_list(),\n",
    "    model_5_data_normalized['Sediment Yield (ton/km²/yr)'].to_list()\n",
    ")\n",
    "\n",
    "popt_linear, pcov_linear = scipy.optimize.curve_fit(\n",
    "    model_5_linear, \n",
    "    model_5_data_normalized['Nonigneous fraction'].to_list(),\n",
    "    model_5_data_normalized['Sediment Yield (ton/km²/yr)'].to_list()\n",
    ")\n",
    "\n",
    "model_5_data_normalized['Power law predicted sediment yield (ton/km²/yr)'] = model_5_data_normalized.apply(\n",
    "    lambda row: model_5_powerlaw(row['Nonigneous fraction'], popt_powerlaw[0], popt_powerlaw[1]),\n",
    "    axis=1\n",
    ")\n",
    "\n",
    "model_5_data_normalized['Linear predicted sediment yield (ton/km²/yr)'] = model_5_data_normalized.apply(\n",
    "    lambda row: model_5_linear(row['Nonigneous fraction'], popt_linear[0], popt_linear[1]),\n",
    "    axis=1\n",
    ")\n",
    "\n",
    "parameters_dict_powerlaw_normalized[5] = popt_powerlaw\n",
    "parameters_dict_linear_normalized[5] = popt_linear\n",
    "\n",
    "model_5_plot_linear_normalized = r2_plot(model_5_data_normalized, 'Linear predicted sediment yield (ton/km²/yr)', 'Sediment Yield (ton/km²/yr)', limit=8000)\n",
    "model_5_plot_powerlaw_normalized = r2_plot(model_5_data_normalized, 'Power law predicted sediment yield (ton/km²/yr)', 'Sediment Yield (ton/km²/yr)', limit=8000)\n",
    "\n",
    "model_5_plot_linear_normalized | model_5_plot_powerlaw_normalized"
   ]
  },
  {
   "attachments": {},
   "cell_type": "markdown",
   "metadata": {},
   "source": [
    "#### Model 6"
   ]
  },
  {
   "cell_type": "code",
   "execution_count": null,
   "metadata": {},
   "outputs": [],
   "source": [
    "model_6_data = model_data.copy()\n",
    "\n",
    "\n",
    "\n",
    "popt_powerlaw, pcov_powerlaw = scipy.optimize.curve_fit(\n",
    "    model_6_powerlaw, \n",
    "    np.array([\n",
    "        model_6_data['Drainage area (square km)'].to_list(),\n",
    "        model_6_data['Hillslope domain slope'].to_list(),\n",
    "    ]),\n",
    "    model_6_data['Sediment Yield (ton/yr)'].to_list()\n",
    ")\n",
    "\n",
    "popt_linear, pcov_linear = scipy.optimize.curve_fit(\n",
    "    model_6_linear, \n",
    "    np.array([\n",
    "        model_6_data['Drainage area (square km)'].to_list(),\n",
    "        model_6_data['Hillslope domain slope'].to_list(),\n",
    "    ]),\n",
    "    model_6_data['Sediment Yield (ton/yr)'].to_list()\n",
    ")\n",
    "\n",
    "model_6_data['Power law predicted sediment yield (ton/yr)'] = model_6_data.apply(\n",
    "    lambda row: model_6_powerlaw(\n",
    "        (\n",
    "            row['Drainage area (square km)'],\n",
    "            row['Hillslope domain slope']\n",
    "        ), popt_powerlaw[0], popt_powerlaw[1], popt_powerlaw[2]\n",
    "    ),\n",
    "    axis=1\n",
    ")\n",
    "\n",
    "model_6_data['Linear predicted sediment yield (ton/yr)'] = model_6_data.apply(\n",
    "    lambda row: model_6_linear(\n",
    "        (\n",
    "            row['Drainage area (square km)'],\n",
    "            row['Hillslope domain slope']\n",
    "        ), popt_linear[0], popt_linear[1], popt_linear[2]\n",
    "    ),\n",
    "    axis=1\n",
    ")\n",
    "\n",
    "parameters_dict_powerlaw[6] = popt_powerlaw\n",
    "parameters_dict_linear[6] = popt_linear\n",
    "\n",
    "model_6_plot_linear = r2_plot(model_6_data, 'Linear predicted sediment yield (ton/yr)', 'Sediment Yield (ton/yr)', limit=100000)\n",
    "model_6_plot_powerlaw = r2_plot(model_6_data, 'Power law predicted sediment yield (ton/yr)', 'Sediment Yield (ton/yr)', limit=100000)\n",
    "\n",
    "model_6_plot_powerlaw_error_bars = alt.Chart(model_6_data).mark_rule(color='#1f77b4').encode(\n",
    "    alt.X('Power law predicted sediment yield (ton/yr)'),\n",
    "    alt.Y('Lower CI sediment yield'),\n",
    "    alt.Y2('Upper CI sediment yield')\n",
    ")\n",
    "\n",
    "model_6_plot_linear | model_6_plot_powerlaw+model_6_plot_powerlaw_error_bars"
   ]
  },
  {
   "attachments": {},
   "cell_type": "markdown",
   "metadata": {},
   "source": [
    "#### Model 6 SSY"
   ]
  },
  {
   "cell_type": "code",
   "execution_count": null,
   "metadata": {},
   "outputs": [],
   "source": [
    "model_6_data_normalized = model_data.copy()\n",
    "\n",
    "\n",
    "\n",
    "popt_powerlaw, pcov_powerlaw = scipy.optimize.curve_fit(\n",
    "    model_6_powerlaw, \n",
    "    np.array([\n",
    "        model_6_data_normalized['Drainage area (square km)'].to_list(),\n",
    "        model_6_data_normalized['Hillslope domain slope'].to_list(),\n",
    "    ]),\n",
    "    model_6_data_normalized['Sediment Yield (ton/km²/yr)'].to_list()\n",
    ")\n",
    "\n",
    "popt_linear, pcov_linear = scipy.optimize.curve_fit(\n",
    "    model_6_linear, \n",
    "    np.array([\n",
    "        model_6_data_normalized['Drainage area (square km)'].to_list(),\n",
    "        model_6_data_normalized['Hillslope domain slope'].to_list(),\n",
    "    ]),\n",
    "    model_6_data_normalized['Sediment Yield (ton/km²/yr)'].to_list()\n",
    ")\n",
    "\n",
    "model_6_data_normalized['Power law predicted sediment yield (ton/km²/yr)'] = model_6_data_normalized.apply(\n",
    "    lambda row: model_6_powerlaw(\n",
    "        (\n",
    "            row['Drainage area (square km)'],\n",
    "            row['Hillslope domain slope']\n",
    "        ), popt_powerlaw[0], popt_powerlaw[1], popt_powerlaw[2]\n",
    "    ),\n",
    "    axis=1\n",
    ")\n",
    "\n",
    "model_6_data_normalized['Linear predicted sediment yield (ton/km²/yr)'] = model_6_data_normalized.apply(\n",
    "    lambda row: model_6_linear(\n",
    "        (\n",
    "            row['Drainage area (square km)'],\n",
    "            row['Hillslope domain slope']\n",
    "        ), popt_linear[0], popt_linear[1], popt_linear[2]\n",
    "    ),\n",
    "    axis=1\n",
    ")\n",
    "\n",
    "parameters_dict_powerlaw_normalized[6] = popt_powerlaw\n",
    "parameters_dict_linear_normalized[6] = popt_linear\n",
    "\n",
    "model_6_plot_linear_normalized = r2_plot(model_6_data_normalized, 'Linear predicted sediment yield (ton/km²/yr)', 'Sediment Yield (ton/km²/yr)', limit=8000)\n",
    "model_6_plot_powerlaw_normalized = r2_plot(model_6_data_normalized, 'Power law predicted sediment yield (ton/km²/yr)', 'Sediment Yield (ton/km²/yr)', limit=8000)\n",
    "\n",
    "\n",
    "\n",
    "model_6_plot_powerlaw_error_bars_normalized = alt.Chart(model_6_data_normalized).mark_rule(color='#1f77b4').encode(\n",
    "    alt.X('Power law predicted sediment yield (ton/km²/yr)', title=''),\n",
    "    alt.Y('Lower CI sediment yield normalized'),\n",
    "    alt.Y2('Upper CI sediment yield normalized')\n",
    ")\n",
    "model_6_plot_linear_normalized | model_6_plot_powerlaw_normalized+model_6_plot_powerlaw_error_bars_normalized"
   ]
  },
  {
   "attachments": {},
   "cell_type": "markdown",
   "metadata": {},
   "source": [
    "#### Model 7\n"
   ]
  },
  {
   "cell_type": "code",
   "execution_count": null,
   "metadata": {},
   "outputs": [],
   "source": [
    "model_7_data = model_data.copy()\n",
    "\n",
    "\n",
    "\n",
    "popt_powerlaw, pcov_powerlaw = scipy.optimize.curve_fit(\n",
    "    model_7_powerlaw, \n",
    "    np.array([\n",
    "        model_7_data['Drainage area (square km)'].to_list(),\n",
    "        model_7_data['Hillslope domain slope'].to_list(),\n",
    "        model_7_data['Glacial retreat area (km²)'].to_list(),\n",
    "    ]),\n",
    "    model_7_data['Sediment Yield (ton/yr)'].to_list()\n",
    ")\n",
    "\n",
    "popt_linear, pcov_linear = scipy.optimize.curve_fit(\n",
    "    model_7_linear, \n",
    "    np.array([\n",
    "        model_7_data['Drainage area (square km)'].to_list(),\n",
    "        model_7_data['Hillslope domain slope'].to_list(),\n",
    "        model_7_data['Glacial retreat area (km²)'].to_list(),\n",
    "    ]),\n",
    "    model_7_data['Sediment Yield (ton/yr)'].to_list()\n",
    ")\n",
    "\n",
    "model_7_data['Power law predicted sediment yield (ton/yr)'] = model_7_data.apply(\n",
    "    lambda row: model_7_powerlaw(\n",
    "        (\n",
    "            row['Drainage area (square km)'],\n",
    "            row['Hillslope domain slope'],\n",
    "            row['Glacial retreat area (km²)'],\n",
    "        ), popt_powerlaw[0], popt_powerlaw[1], popt_powerlaw[2], popt_powerlaw[3]\n",
    "    ),\n",
    "    axis=1\n",
    ")\n",
    "\n",
    "model_7_data['Linear predicted sediment yield (ton/yr)'] = model_7_data.apply(\n",
    "    lambda row: model_7_linear(\n",
    "        (\n",
    "            row['Drainage area (square km)'],\n",
    "            row['Hillslope domain slope'],\n",
    "            row['Glacial retreat area (km²)'],\n",
    "        ), popt_linear[0], popt_linear[1], popt_linear[2], popt_linear[3]\n",
    "    ),\n",
    "    axis=1\n",
    ")\n",
    "\n",
    "parameters_dict_powerlaw[7] = popt_powerlaw\n",
    "parameters_dict_linear[7] = popt_linear\n",
    "\n",
    "model_7_plot_linear = r2_plot(model_7_data, 'Linear predicted sediment yield (ton/yr)', 'Sediment Yield (ton/yr)', limit=100000)\n",
    "model_7_plot_powerlaw = r2_plot(model_7_data, 'Power law predicted sediment yield (ton/yr)', 'Sediment Yield (ton/yr)', limit=100000)\n",
    "\n",
    "model_7_plot_linear | model_7_plot_powerlaw"
   ]
  },
  {
   "attachments": {},
   "cell_type": "markdown",
   "metadata": {},
   "source": [
    "#### Model 7 SSY"
   ]
  },
  {
   "cell_type": "code",
   "execution_count": null,
   "metadata": {},
   "outputs": [],
   "source": [
    "model_7_data_normalized = model_data.copy()\n",
    "\n",
    "\n",
    "\n",
    "popt_powerlaw, pcov_powerlaw = scipy.optimize.curve_fit(\n",
    "    model_7_powerlaw, \n",
    "    np.array([\n",
    "        model_7_data_normalized['Drainage area (square km)'].to_list(),\n",
    "        model_7_data_normalized['Hillslope domain slope'].to_list(),\n",
    "        model_7_data_normalized['Glacial retreat area (km²)'].to_list(),\n",
    "    ]),\n",
    "    model_7_data_normalized['Sediment Yield (ton/km²/yr)'].to_list()\n",
    ")\n",
    "\n",
    "popt_linear, pcov_linear = scipy.optimize.curve_fit(\n",
    "    model_7_linear, \n",
    "    np.array([\n",
    "        model_7_data_normalized['Drainage area (square km)'].to_list(),\n",
    "        model_7_data_normalized['Hillslope domain slope'].to_list(),\n",
    "        model_7_data_normalized['Glacial retreat area (km²)'].to_list(),\n",
    "    ]),\n",
    "    model_7_data_normalized['Sediment Yield (ton/km²/yr)'].to_list()\n",
    ")\n",
    "\n",
    "model_7_data_normalized['Power law predicted sediment yield (ton/km²/yr)'] = model_7_data_normalized.apply(\n",
    "    lambda row: model_7_powerlaw(\n",
    "        (\n",
    "            row['Drainage area (square km)'],\n",
    "            row['Hillslope domain slope'],\n",
    "            row['Glacial retreat area (km²)'],\n",
    "        ), popt_powerlaw[0], popt_powerlaw[1], popt_powerlaw[2], popt_powerlaw[3]\n",
    "    ),\n",
    "    axis=1\n",
    ")\n",
    "\n",
    "model_7_data_normalized['Linear predicted sediment yield (ton/km²/yr)'] = model_7_data_normalized.apply(\n",
    "    lambda row: model_7_linear(\n",
    "        (\n",
    "            row['Drainage area (square km)'],\n",
    "            row['Hillslope domain slope'],\n",
    "            row['Glacial retreat area (km²)'],\n",
    "        ), popt_linear[0], popt_linear[1], popt_linear[2], popt_linear[3]\n",
    "    ),\n",
    "    axis=1\n",
    ")\n",
    "\n",
    "parameters_dict_powerlaw_normalized[7] = popt_powerlaw\n",
    "parameters_dict_linear_normalized[7] = popt_linear\n",
    "\n",
    "model_7_plot_linear_normalized = r2_plot(model_7_data_normalized, 'Linear predicted sediment yield (ton/km²/yr)', 'Sediment Yield (ton/km²/yr)', limit=8000)\n",
    "model_7_plot_powerlaw_normalized = r2_plot(model_7_data_normalized, 'Power law predicted sediment yield (ton/km²/yr)', 'Sediment Yield (ton/km²/yr)', limit=8000)\n",
    "\n",
    "model_7_plot_linear_normalized | model_7_plot_powerlaw_normalized"
   ]
  },
  {
   "attachments": {},
   "cell_type": "markdown",
   "metadata": {},
   "source": [
    "# Plot Model Results"
   ]
  },
  {
   "cell_type": "code",
   "execution_count": null,
   "metadata": {},
   "outputs": [],
   "source": [
    "def add_props(plot, params, data, model_n, predicted_col, nse_label = \"NSE: \"):\n",
    "    return plot.properties(\n",
    "        title={\n",
    "            'subtitle': [\n",
    "                str([np.round(var, 2) for var in params]),\n",
    "                nse_label + str(np.round(nse(data['Sediment Yield (ton/yr)'], data[predicted_col]), 3))],\n",
    "            'text': f\"Model {str(model_n)}\"\n",
    "        }\n",
    "    )"
   ]
  },
  {
   "attachments": {},
   "cell_type": "markdown",
   "metadata": {},
   "source": [
    "## Multivariate models - Observed vs Predicted Plots"
   ]
  },
  {
   "cell_type": "code",
   "execution_count": null,
   "metadata": {},
   "outputs": [],
   "source": [
    "model_6_plot_powerlaw_normalized"
   ]
  },
  {
   "cell_type": "code",
   "execution_count": null,
   "metadata": {},
   "outputs": [],
   "source": [
    "model_6_ssy_results = add_props(\n",
    "    model_6_plot_powerlaw_normalized + model_6_plot_powerlaw_error_bars_normalized, parameters_dict_powerlaw_normalized[6], model_6_data_normalized, 6, predicted_col='Power law predicted sediment yield (ton/km²/yr)', nse_label='NSE (Power law Model): '\n",
    ").encode(\n",
    "    alt.X(title=\"Predicted sediment yield (ton/km²/yr)\"),\n",
    "    alt.Y(title='Observed sediment yield (ton/km²/yr)')\n",
    ")\n",
    "\n",
    "model_6_results = add_props(\n",
    "    model_6_plot_powerlaw + model_6_plot_powerlaw_error_bars, parameters_dict_powerlaw[6], model_6_data, 6, predicted_col='Power law predicted sediment yield (ton/yr)', nse_label='NSE (Power law Model): '\n",
    ").encode(\n",
    "    alt.X(title=\"Predicted sediment yield (ton/yr)\"),\n",
    "    alt.Y(title='Observed sediment yield (ton/yr)')\n",
    ")\n",
    "\n",
    "(model_6_ssy_results | model_6_results).configure_legend(\n",
    "    titleFontSize=22, labelFontSize=22, orient='right'\n",
    ").configure_axis(\n",
    "    labelFontSize=16, titleFontSize=16\n",
    ").configure_title(\n",
    "    fontSize=22\n",
    ")"
   ]
  },
  {
   "attachments": {},
   "cell_type": "markdown",
   "metadata": {},
   "source": [
    "## Single variate models - Observed vs Variabel Plots"
   ]
  },
  {
   "attachments": {},
   "cell_type": "markdown",
   "metadata": {},
   "source": [
    "### Sediment Yield"
   ]
  },
  {
   "cell_type": "code",
   "execution_count": null,
   "metadata": {},
   "outputs": [],
   "source": [
    "def add_props_2models(plot, data, model_n, params_linear, params_powerlaw):\n",
    "    return plot.properties(\n",
    "        width=200, height=200,\n",
    "        title={\n",
    "            'subtitle': [\n",
    "                \"Parameters (Linear model): \" + str([np.round(var, 2) for var in params_linear]),\n",
    "                \"Parameters (Power law model): \" + str([np.round(var, 2) for var in params_powerlaw]),\n",
    "                \"NSE (Linear model): \" + str(np.round(nse(data['Sediment Yield (ton/yr)'], data['Linear predicted sediment yield (ton/yr)']), 2)),\n",
    "                # \"r² (Linear model): \" + str(np.round(r2_score(data['Sediment Yield (ton/yr)'], data['Linear predicted sediment yield (ton/yr)']), 2)),\n",
    "                \"NSE (Power law model): \" + str(np.round(nse(data['Sediment Yield (ton/yr)'], data['Power law predicted sediment yield (ton/yr)']), 2))\n",
    "            ],\n",
    "            'text': f\"Model {str(model_n)}\"\n",
    "        }\n",
    "    )"
   ]
  },
  {
   "attachments": {},
   "cell_type": "markdown",
   "metadata": {},
   "source": [
    "#### Model 1"
   ]
  },
  {
   "cell_type": "code",
   "execution_count": null,
   "metadata": {},
   "outputs": [],
   "source": [
    "\n",
    "domain_space = pd.Series(np.linspace(0,14,100))\n",
    "model_1_df = pd.DataFrame({\n",
    "    'domain': domain_space,\n",
    "    'Linear model': domain_space.apply(lambda x: model_1_linear(x, parameters_dict_linear[1][0], parameters_dict_linear[1][1])),\n",
    "    'Power law model': domain_space.apply(lambda x: model_1_powerlaw(x, parameters_dict_powerlaw[1][0], parameters_dict_powerlaw[1][1])) \n",
    "})\n",
    "\n",
    "linear_model = alt.Chart(model_1_df).mark_line(color='grey', strokeWidth=2, opacity=0.5).encode(\n",
    "    alt.X('domain', title='Drainage area (km²)'),\n",
    "    alt.Y('Linear model', scale=alt.Scale(domain=(-40000, 120000)))\n",
    ")\n",
    "\n",
    "powerlaw_model = alt.Chart(model_1_df).mark_line(color='black', strokeWidth=2, opacity=1).encode(\n",
    "    alt.X('domain'),\n",
    "    alt.Y('Power law model')\n",
    ")\n",
    "\n",
    "model_1_scatterplot = (linear_model + powerlaw_model + darea)\n",
    "\n",
    "model_1_scatterplot = add_props_2models(model_1_scatterplot, model_1_data, 1, parameters_dict_linear[1], parameters_dict_powerlaw[1])\n",
    "model_1_scatterplot"
   ]
  },
  {
   "attachments": {},
   "cell_type": "markdown",
   "metadata": {},
   "source": [
    "#### Model 2"
   ]
  },
  {
   "cell_type": "code",
   "execution_count": null,
   "metadata": {},
   "outputs": [],
   "source": [
    "\n",
    "domain_space = pd.Series(np.linspace(0.05,0.30,100))\n",
    "model_2_df = pd.DataFrame({\n",
    "    'domain': domain_space,\n",
    "    'Linear model': domain_space.apply(lambda x: model_2_linear(x, parameters_dict_linear[2][0], parameters_dict_linear[2][1])),\n",
    "    'Power law model': domain_space.apply(lambda x: model_2_powerlaw(x, parameters_dict_powerlaw[2][0], parameters_dict_powerlaw[2][1])) \n",
    "})\n",
    "\n",
    "linear_model = alt.Chart(model_2_df).mark_line(color='grey', strokeWidth=2, opacity=0.5).encode(\n",
    "    alt.X('domain', title='Channel slope'),\n",
    "    alt.Y('Linear model', scale=alt.Scale(domain=(-40000, 120000), clamp=True))\n",
    ")\n",
    "\n",
    "powerlaw_model = alt.Chart(model_2_df).mark_line(color='black', strokeWidth=2, opacity=1).encode(\n",
    "    alt.X('domain'),\n",
    "    alt.Y('Power law model')\n",
    ")\n",
    "\n",
    "model_2_scatterplot = (linear_model + powerlaw_model + channelslope)\n",
    "\n",
    "model_2_scatterplot = add_props_2models(model_2_scatterplot, model_2_data, 2, parameters_dict_linear[2], parameters_dict_powerlaw[2])"
   ]
  },
  {
   "attachments": {},
   "cell_type": "markdown",
   "metadata": {},
   "source": [
    "#### Model 3"
   ]
  },
  {
   "cell_type": "code",
   "execution_count": null,
   "metadata": {},
   "outputs": [],
   "source": [
    "\n",
    "domain_space = pd.Series(np.linspace(0.4,0.9,100))\n",
    "model_3_df = pd.DataFrame({\n",
    "    'domain': domain_space,\n",
    "    'Linear model': domain_space.apply(lambda x: model_3_linear(x, parameters_dict_linear[3][0], parameters_dict_linear[3][1])),\n",
    "    'Power law model': domain_space.apply(lambda x: model_3_powerlaw(x, parameters_dict_powerlaw[3][0], parameters_dict_powerlaw[3][1])) \n",
    "})\n",
    "\n",
    "linear_model = alt.Chart(model_3_df).mark_line(color='grey', strokeWidth=2, opacity=0.5).encode(\n",
    "    alt.X('domain', title='Hillslope domain slope'),\n",
    "    alt.Y('Linear model', scale=alt.Scale(domain=(-40000, 120000)))\n",
    ")\n",
    "\n",
    "powerlaw_model = alt.Chart(model_3_df).mark_line(color='black', strokeWidth=2, opacity=1).encode(\n",
    "    alt.X('domain'),\n",
    "    alt.Y('Power law model')\n",
    ")\n",
    "\n",
    "model_3_scatterplot = (linear_model + powerlaw_model + hillslope)\n",
    "\n",
    "model_3_scatterplot = add_props_2models(model_3_scatterplot, model_3_data, 3, parameters_dict_linear[3], parameters_dict_powerlaw[3])"
   ]
  },
  {
   "attachments": {},
   "cell_type": "markdown",
   "metadata": {},
   "source": [
    "#### Model 4"
   ]
  },
  {
   "cell_type": "code",
   "execution_count": null,
   "metadata": {},
   "outputs": [],
   "source": [
    "\n",
    "domain_space = pd.Series(np.linspace(0.0,0.9,100))\n",
    "model_4_df = pd.DataFrame({\n",
    "    'domain': domain_space,\n",
    "    'Linear model': domain_space.apply(lambda x: model_4_linear(x, parameters_dict_linear[4][0], parameters_dict_linear[4][1])),\n",
    "    'Power law model': domain_space.apply(lambda x: model_4_powerlaw(x, parameters_dict_powerlaw[4][0], parameters_dict_powerlaw[4][1])) \n",
    "})\n",
    "\n",
    "linear_model = alt.Chart(model_4_df).mark_line(color='grey', strokeWidth=2, opacity=0.5).encode(\n",
    "    alt.X('domain', title='Glacial retreat area (km²)'),\n",
    "    alt.Y('Linear model', scale=alt.Scale(domain=(-40000, 120000)))\n",
    ")\n",
    "\n",
    "powerlaw_model = alt.Chart(model_4_df).mark_line(color='black', strokeWidth=2, opacity=1).encode(\n",
    "    alt.X('domain'),\n",
    "    alt.Y('Power law model')\n",
    ")\n",
    "\n",
    "# model_4_scatterplot = (linear_model + powerlaw_model + glacialretreat)\n",
    "model_4_scatterplot = (linear_model + glacialretreat)\n",
    "\n",
    "model_4_scatterplot = add_props_2models(model_4_scatterplot, model_4_data, 4, parameters_dict_linear[4], parameters_dict_powerlaw[4])"
   ]
  },
  {
   "attachments": {},
   "cell_type": "markdown",
   "metadata": {},
   "source": [
    "#### Model 5 "
   ]
  },
  {
   "cell_type": "code",
   "execution_count": null,
   "metadata": {},
   "outputs": [],
   "source": [
    "\n",
    "domain_space = pd.Series(np.linspace(0.0,1.0,100))\n",
    "model_5_df = pd.DataFrame({\n",
    "    'domain': domain_space,\n",
    "    'Linear model': domain_space.apply(lambda x: model_5_linear(x, parameters_dict_linear[5][0], parameters_dict_linear[5][1])),\n",
    "    'Power law model': domain_space.apply(lambda x: model_5_powerlaw(x, parameters_dict_powerlaw[5][0], parameters_dict_powerlaw[5][1])) \n",
    "})\n",
    "\n",
    "linear_model = alt.Chart(model_5_df).mark_line(color='grey', strokeWidth=2, opacity=0.5).encode(\n",
    "    alt.X('domain', title='Nonigneous fraction'),\n",
    "    alt.Y('Linear model', scale=alt.Scale(domain=(-40000, 120000)), title='')\n",
    ")\n",
    "\n",
    "powerlaw_model = alt.Chart(model_5_df).mark_line(color='black', strokeWidth=2, opacity=1).encode(\n",
    "    alt.X('domain'),\n",
    "    alt.Y('Power law model')\n",
    ")\n",
    "\n",
    "model_5_scatterplot = linear_model + powerlaw_model + lithology\n",
    "model_5_scatterplot = linear_model + lithology\n",
    "\n",
    "model_5_scatterplot = add_props_2models(model_5_scatterplot, model_5_data, 5, parameters_dict_linear[5], parameters_dict_powerlaw[5])"
   ]
  },
  {
   "cell_type": "code",
   "execution_count": null,
   "metadata": {},
   "outputs": [],
   "source": [
    "(\n",
    "    model_1_scatterplot | model_2_scatterplot | model_3_scatterplot | model_4_scatterplot | model_5_scatterplot\n",
    ").configure_legend(\n",
    "    titleFontSize=22, labelFontSize=22, orient='right'\n",
    ").configure_axis(\n",
    "    labelFontSize=22, titleFontSize=22\n",
    ").configure_title(\n",
    "    fontSize=22\n",
    ")"
   ]
  },
  {
   "attachments": {},
   "cell_type": "markdown",
   "metadata": {},
   "source": [
    "### Specific Sediment Yield"
   ]
  },
  {
   "cell_type": "code",
   "execution_count": null,
   "metadata": {},
   "outputs": [],
   "source": [
    "def add_props_2models_normalized(plot, data, model_n, params_linear, params_powerlaw):\n",
    "    return plot.properties(\n",
    "        width=200, height=200,\n",
    "        title={\n",
    "            'subtitle': [\n",
    "                \"Parameters (Linear model): \" + str([np.round(var, 2) for var in params_linear]),\n",
    "                \"Parameters (Power law model): \" + str([np.round(var, 2) for var in params_powerlaw]),\n",
    "                \"NSE (Linear model): \" + str(np.round(nse(data['Sediment Yield (ton/km²/yr)'], data['Linear predicted sediment yield (ton/km²/yr)']), 2)),\n",
    "                # \"r² (Linear model): \" + str(np.round(r2_score(data['Sediment Yield (ton/km²/yr)'], data['Linear predicted sediment yield (ton/km²/yr)']), 2)),\n",
    "                \"NSE (Power law model): \" + str(np.round(nse(data['Sediment Yield (ton/km²/yr)'], data['Power law predicted sediment yield (ton/km²/yr)']), 2))\n",
    "            ],\n",
    "            'text': f\"Model {str(model_n)}\"\n",
    "        }\n",
    "    )"
   ]
  },
  {
   "attachments": {},
   "cell_type": "markdown",
   "metadata": {},
   "source": [
    "#### Model 1"
   ]
  },
  {
   "cell_type": "code",
   "execution_count": null,
   "metadata": {},
   "outputs": [],
   "source": [
    "\n",
    "domain_space = pd.Series(np.linspace(0,14,100))\n",
    "model_1_df = pd.DataFrame({\n",
    "    'domain': domain_space,\n",
    "    'Linear model': domain_space.apply(lambda x: model_1_linear(x, parameters_dict_linear_normalized[1][0], parameters_dict_linear_normalized[1][1])),\n",
    "    'Power law model': domain_space.apply(lambda x: model_1_powerlaw(x, parameters_dict_powerlaw_normalized[1][0], parameters_dict_powerlaw_normalized[1][1])) \n",
    "})\n",
    "\n",
    "linear_model = alt.Chart(model_1_df).mark_line(color='grey', strokeWidth=2, opacity=0.5).encode(\n",
    "    alt.X('domain', title='Drainage area (km²)'),\n",
    "    alt.Y('Linear model', scale=alt.Scale(domain=(-10000, 10000)))\n",
    ")\n",
    "\n",
    "powerlaw_model = alt.Chart(model_1_df).mark_line(color='black', strokeWidth=2, opacity=1).encode(\n",
    "    alt.X('domain'),\n",
    "    alt.Y('Power law model')\n",
    ")\n",
    "\n",
    "model_1_scatterplot_normed = (linear_model + darea_normalized)\n",
    "\n",
    "model_1_scatterplot_normed = add_props_2models_normalized(model_1_scatterplot_normed, model_1_data_normalized, 1, parameters_dict_linear_normalized[1], parameters_dict_powerlaw_normalized[1])"
   ]
  },
  {
   "attachments": {},
   "cell_type": "markdown",
   "metadata": {},
   "source": [
    "#### Model 2"
   ]
  },
  {
   "cell_type": "code",
   "execution_count": null,
   "metadata": {},
   "outputs": [],
   "source": [
    "\n",
    "domain_space = pd.Series(np.linspace(0.05,0.30,100))\n",
    "model_2_df = pd.DataFrame({\n",
    "    'domain': domain_space,\n",
    "    'Linear model': domain_space.apply(lambda x: model_2_linear(x, parameters_dict_linear_normalized[2][0], parameters_dict_linear_normalized[2][1])),\n",
    "    'Power law model': domain_space.apply(lambda x: model_2_powerlaw(x, parameters_dict_powerlaw_normalized[2][0], parameters_dict_powerlaw_normalized[2][1])) \n",
    "})\n",
    "\n",
    "linear_model = alt.Chart(model_2_df).mark_line(color='grey', strokeWidth=2, opacity=0.5).encode(\n",
    "    alt.X('domain', title='Channel slope'),\n",
    "    alt.Y('Linear model', scale=alt.Scale(domain=(-10000, 10000), clamp=True))\n",
    ")\n",
    "\n",
    "powerlaw_model = alt.Chart(model_2_df).mark_line(color='black', strokeWidth=2, opacity=1).encode(\n",
    "    alt.X('domain'),\n",
    "    alt.Y('Power law model')\n",
    ")\n",
    "\n",
    "model_2_scatterplot_normed = (linear_model + channelslope_normalized)\n",
    "\n",
    "model_2_scatterplot_normed = add_props_2models_normalized(model_2_scatterplot_normed, model_2_data_normalized, 2, parameters_dict_linear_normalized[2], parameters_dict_powerlaw_normalized[2])"
   ]
  },
  {
   "attachments": {},
   "cell_type": "markdown",
   "metadata": {},
   "source": [
    "#### Model 3"
   ]
  },
  {
   "cell_type": "code",
   "execution_count": null,
   "metadata": {},
   "outputs": [],
   "source": [
    "\n",
    "domain_space = pd.Series(np.linspace(0.4,0.9,100))\n",
    "model_3_df = pd.DataFrame({\n",
    "    'domain': domain_space,\n",
    "    'Linear model': domain_space.apply(lambda x: model_3_linear(x, parameters_dict_linear_normalized[3][0], parameters_dict_linear_normalized[3][1])),\n",
    "    'Power law model': domain_space.apply(lambda x: model_3_powerlaw(x, parameters_dict_powerlaw_normalized[3][0], parameters_dict_powerlaw_normalized[3][1])) \n",
    "})\n",
    "\n",
    "linear_model = alt.Chart(model_3_df).mark_line(color='grey', strokeWidth=2, opacity=0.5).encode(\n",
    "    alt.X('domain', title='Hillslope domain slope'),\n",
    "    alt.Y('Linear model', scale=alt.Scale(domain=(-10000, 10000)))\n",
    ")\n",
    "\n",
    "powerlaw_model = alt.Chart(model_3_df).mark_line(color='black', strokeWidth=2, opacity=1).encode(\n",
    "    alt.X('domain'),\n",
    "    alt.Y('Power law model')\n",
    ")\n",
    "\n",
    "model_3_scatterplot_normed = (linear_model + hillslope_normalized)\n",
    "\n",
    "model_3_scatterplot_normed = add_props_2models_normalized(model_3_scatterplot_normed, model_3_data_normalized, 3, parameters_dict_linear_normalized[3], parameters_dict_powerlaw_normalized[3])"
   ]
  },
  {
   "attachments": {},
   "cell_type": "markdown",
   "metadata": {},
   "source": [
    "#### Model 4"
   ]
  },
  {
   "cell_type": "code",
   "execution_count": null,
   "metadata": {},
   "outputs": [],
   "source": [
    "\n",
    "domain_space = pd.Series(np.linspace(0.0,0.9,100))\n",
    "model_4_df = pd.DataFrame({\n",
    "    'domain': domain_space,\n",
    "    'Linear model': domain_space.apply(lambda x: model_4_linear(x, parameters_dict_linear_normalized[4][0], parameters_dict_linear_normalized[4][1])),\n",
    "    'Power law model': domain_space.apply(lambda x: model_4_powerlaw(x, parameters_dict_powerlaw_normalized[4][0], parameters_dict_powerlaw_normalized[4][1])) \n",
    "})\n",
    "\n",
    "linear_model = alt.Chart(model_4_df).mark_line(color='grey', strokeWidth=2, opacity=0.5).encode(\n",
    "    alt.X('domain', title='Glacial retreat area (km²)'),\n",
    "    alt.Y('Linear model', scale=alt.Scale(domain=(-10000, 10000)))\n",
    ")\n",
    "\n",
    "powerlaw_model = alt.Chart(model_4_df).mark_line(color='black', strokeWidth=2, opacity=1).encode(\n",
    "    alt.X('domain'),\n",
    "    alt.Y('Power law model')\n",
    ")\n",
    "\n",
    "model_4_scatterplot_normed = (linear_model + glacialretreat_normalized)\n",
    "\n",
    "model_4_scatterplot_normed = add_props_2models_normalized(model_4_scatterplot_normed, model_4_data_normalized, 4, parameters_dict_linear_normalized[4], parameters_dict_powerlaw_normalized[4])"
   ]
  },
  {
   "attachments": {},
   "cell_type": "markdown",
   "metadata": {},
   "source": [
    "#### Model 5 "
   ]
  },
  {
   "cell_type": "code",
   "execution_count": null,
   "metadata": {},
   "outputs": [],
   "source": [
    "\n",
    "domain_space = pd.Series(np.linspace(0.0,1.0,100))\n",
    "model_5_df = pd.DataFrame({\n",
    "    'domain': domain_space,\n",
    "    'Linear model': domain_space.apply(lambda x: model_5_linear(x, parameters_dict_linear_normalized[5][0], parameters_dict_linear_normalized[5][1])),\n",
    "    'Power law model': domain_space.apply(lambda x: model_5_powerlaw(x, parameters_dict_powerlaw_normalized[5][0], parameters_dict_powerlaw_normalized[5][1])) \n",
    "})\n",
    "\n",
    "linear_model = alt.Chart(model_5_df).mark_line(color='grey', strokeWidth=2, opacity=0.5).encode(\n",
    "    alt.X('domain', title='Nonigneous fraction'),\n",
    "    alt.Y('Linear model', scale=alt.Scale(domain=(-10000, 10000)), title='')\n",
    ")\n",
    "\n",
    "powerlaw_model = alt.Chart(model_5_df).mark_line(color='black', strokeWidth=2, opacity=1).encode(\n",
    "    alt.X('domain'),\n",
    "    alt.Y('Power law model')\n",
    ")\n",
    "\n",
    "model_5_scatterplot_normed = linear_model + lithology_normalized\n",
    "\n",
    "model_5_scatterplot_normed = add_props_2models_normalized(model_5_scatterplot_normed, model_5_data_normalized, 5, parameters_dict_linear_normalized[5], parameters_dict_powerlaw_normalized[5])"
   ]
  },
  {
   "cell_type": "code",
   "execution_count": null,
   "metadata": {},
   "outputs": [],
   "source": [
    "def y_label_none(plot):\n",
    "    return plot.encode(alt.Y(title=\"\", axis=alt.Axis(labels=False)))\n",
    "\n",
    "\n",
    "(\n",
    "    (model_1_scatterplot.encode(alt.Y(title=\"Sediment Yield (ton/yr)\")) | y_label_none(model_2_scatterplot) | y_label_none(model_3_scatterplot) | y_label_none(model_4_scatterplot) | y_label_none(model_5_scatterplot))\n",
    "    &\n",
    "    (model_1_scatterplot_normed.encode(alt.Y(title=\"Specific Sediment Yield (ton/km²/yr)\")) | y_label_none(model_2_scatterplot_normed) | y_label_none(model_3_scatterplot_normed) | y_label_none(model_4_scatterplot_normed) | y_label_none(model_5_scatterplot_normed))\n",
    ").configure_legend(\n",
    "    titleFontSize=22, labelFontSize=22, orient='right'\n",
    ").configure_axis(\n",
    "    labelFontSize=16, titleFontSize=16\n",
    ").configure_title(\n",
    "    fontSize=22\n",
    ")"
   ]
  },
  {
   "cell_type": "code",
   "execution_count": null,
   "metadata": {},
   "outputs": [],
   "source": [
    "def y_label_none(plot):\n",
    "    return plot.encode(alt.Y(title=\"\", axis=alt.Axis(labels=False)))\n",
    "def no_title(plot):\n",
    "    return plot.properties(title=\"\")\n",
    "\n",
    "(\n",
    "    (no_title(model_1_scatterplot).encode(alt.Y(title=\"Sediment Yield (ton/yr)\")) | y_label_none(no_title(model_2_scatterplot)) | y_label_none(no_title(model_3_scatterplot)) | y_label_none(no_title(model_4_scatterplot)) | y_label_none(no_title(model_5_scatterplot)))\n",
    "    &\n",
    "    (no_title(model_1_scatterplot_normed).encode(alt.Y(title=\"Specific Sediment Yield (ton/km²/yr)\")) | y_label_none(no_title(model_2_scatterplot_normed)) | y_label_none(no_title(model_3_scatterplot_normed)) | y_label_none(no_title(model_4_scatterplot_normed)) | y_label_none(no_title(model_5_scatterplot_normed)))\n",
    ").configure_legend(\n",
    "    titleFontSize=22, labelFontSize=22, orient='top'\n",
    ").configure_axis(\n",
    "    labelFontSize=18, titleFontSize=18\n",
    ").configure_title(\n",
    "    fontSize=22\n",
    ")"
   ]
  },
  {
   "cell_type": "code",
   "execution_count": null,
   "metadata": {},
   "outputs": [],
   "source": [
    "def y_label_none(plot):\n",
    "    return plot.encode(alt.Y(title=\"\", axis=alt.Axis(labels=False)))\n",
    "\n",
    "\n",
    "(\n",
    "    (model_1_scatterplot.properties(title=\"\").encode(alt.Y(title=\"Sediment Yield (ton/yr)\")) | y_label_none(model_2_scatterplot.properties(title=\"\")) | y_label_none(model_3_scatterplot.properties(title=\"\")) | y_label_none(model_4_scatterplot.properties(title=\"\")) | y_label_none(model_5_scatterplot.properties(title=\"\")))\n",
    "    &\n",
    "    (darea_normalized.encode(alt.Y(title=\"Specific Sediment Yield (ton/km²/yr)\")) | y_label_none(channelslope_normalized) | y_label_none(hillslope_normalized) | y_label_none(glacialretreat_normalized) | y_label_none(lithology_normalized))\n",
    ").configure_legend(\n",
    "    titleFontSize=22, labelFontSize=22, orient='top'\n",
    ").configure_axis(\n",
    "    labelFontSize=16, titleFontSize=16\n",
    ").configure_title(\n",
    "    fontSize=22\n",
    ")"
   ]
  },
  {
   "attachments": {},
   "cell_type": "markdown",
   "metadata": {},
   "source": [
    "# Save results to CSV"
   ]
  },
  {
   "cell_type": "code",
   "execution_count": null,
   "metadata": {},
   "outputs": [],
   "source": [
    "net_measurements.to_csv(\"outputs/power_law_data_new.csv\")"
   ]
  }
 ],
 "metadata": {
  "kernelspec": {
   "display_name": "Python 3.9.2 ('xdem')",
   "language": "python",
   "name": "python3"
  },
  "language_info": {
   "codemirror_mode": {
    "name": "ipython",
    "version": 3
   },
   "file_extension": ".py",
   "mimetype": "text/x-python",
   "name": "python",
   "nbconvert_exporter": "python",
   "pygments_lexer": "ipython3",
   "version": "3.9.16"
  },
  "orig_nbformat": 4,
  "vscode": {
   "interpreter": {
    "hash": "22b7dc50fb8286be51844dc7799cfbbdb6bfe743b9c42cc7dfa69df0fcb613a9"
   }
  }
 },
 "nbformat": 4,
 "nbformat_minor": 2
}
