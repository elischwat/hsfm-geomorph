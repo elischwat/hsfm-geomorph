{
 "cells": [
  {
   "cell_type": "code",
   "execution_count": null,
   "metadata": {},
   "outputs": [],
   "source": [
    "import pandas as pd\n",
    "import numpy as np"
   ]
  },
  {
   "cell_type": "code",
   "execution_count": null,
   "metadata": {},
   "outputs": [],
   "source": [
    "modeling_powerlaw_data = pd.read_csv(\n",
    "    '/home/elilouis/hsfm-geomorph/dem-analysis/mt_baker_mass_wasted/outputs/modeling_powerlaw_data.csv'\n",
    ")\n",
    "time_series_annualized_gross = pd.read_csv(\n",
    "    '/home/elilouis/hsfm-geomorph/dem-analysis/mt_baker_mass_wasted/outputs/final_figures_data/time_series_annualized_gross.csv'\n",
    ")\n",
    "time_series_cumulative = pd.read_csv(\n",
    "    '/home/elilouis/hsfm-geomorph/dem-analysis/mt_baker_mass_wasted/outputs/final_figures_data/time_series_cumulative.csv'\n",
    ")\n",
    "volumes_and_yields_per_valley = pd.read_csv(\n",
    "    '/home/elilouis/hsfm-geomorph/dem-analysis/mt_baker_mass_wasted/outputs/final_figures_data/volumes_and_yields_per_valley.csv'\n",
    ")"
   ]
  },
  {
   "attachments": {},
   "cell_type": "markdown",
   "metadata": {},
   "source": [
    "# Gross Changes Table"
   ]
  },
  {
   "cell_type": "code",
   "execution_count": null,
   "metadata": {},
   "outputs": [],
   "source": [
    "time_series_annualized_gross['uncertainty'] = np.abs(time_series_annualized_gross['Annual Mass Wasted'] - time_series_annualized_gross['Lower CI'])\n",
    "time_series_annualized_gross = time_series_annualized_gross[['valley', 'process', 'type', 'start_time', 'end_time', 'Annual Mass Wasted', 'uncertainty']]\n",
    "time_series_annualized_gross = time_series_annualized_gross.sort_values([\"valley\", 'process', 'type', 'start_time', 'end_time'])\n",
    "time_series_annualized_gross['Annual Mass Wasted'] = np.round(time_series_annualized_gross['Annual Mass Wasted'], 2)\n",
    "time_series_annualized_gross['uncertainty'] = np.round(time_series_annualized_gross['uncertainty'], 2)\n",
    "time_series_annualized_gross"
   ]
  },
  {
   "attachments": {},
   "cell_type": "markdown",
   "metadata": {},
   "source": [
    "# Cumulative Changes Table"
   ]
  },
  {
   "cell_type": "code",
   "execution_count": null,
   "metadata": {},
   "outputs": [],
   "source": [
    "time_series_cumulative = time_series_cumulative[time_series_cumulative.type.isin(['fluvial', 'hillslope', 'all'])]\n",
    "time_series_cumulative['uncertainty'] = np.abs(time_series_cumulative['cumulative volume'] - time_series_cumulative['Lower CI'])\n",
    "time_series_cumulative = time_series_cumulative[['valley', 'type', 'end_time', 'cumulative volume', 'uncertainty']]\n",
    "time_series_cumulative['uncertainty'] = time_series_cumulative.apply(lambda row: row.uncertainty if row.end_time[:4] =='2015' else np.nan, axis=1)\n",
    "time_series_cumulative = time_series_cumulative.sort_values(['valley', 'type', 'end_time'])\n",
    "time_series_cumulative['cumulative volume'] = np.round(time_series_cumulative['cumulative volume'], 2)\n",
    "time_series_cumulative['uncertainty'] = np.round(time_series_cumulative['uncertainty'], 2)\n",
    "\n",
    "time_series_cumulative"
   ]
  },
  {
   "attachments": {},
   "cell_type": "markdown",
   "metadata": {},
   "source": [
    "# 10 Watershed Sediment Yields Table and Modeling Data"
   ]
  },
  {
   "cell_type": "code",
   "execution_count": null,
   "metadata": {},
   "outputs": [],
   "source": [
    "modeling_powerlaw_data['Uncertainty (ton/yr)'] = np.abs(modeling_powerlaw_data['Sediment Yield (ton/yr)'] - modeling_powerlaw_data['Lower CI sediment yield'])\n",
    "modeling_powerlaw_data['Uncertainty (ton/km²/yr)'] = np.abs(modeling_powerlaw_data['Sediment Yield (ton/km²/yr)'] - modeling_powerlaw_data['Lower CI sediment yield normalized'])"
   ]
  },
  {
   "cell_type": "code",
   "execution_count": null,
   "metadata": {},
   "outputs": [],
   "source": [
    "modeling_powerlaw_data = modeling_powerlaw_data[[\n",
    "    'Valley Name',\n",
    "    'Drainage area (square km)',\n",
    "    'Channel slope',\n",
    "    'Hillslope domain slope',\n",
    "    'Glacial retreat area (km²)',\n",
    "    'Nonigneous fraction',\n",
    "    'Sediment Yield (ton/yr)',\n",
    "    'Sediment Yield (ton/km²/yr)',\n",
    "    'Uncertainty (ton/yr)',\n",
    "    'Uncertainty (ton/km²/yr)'\n",
    "]]\n",
    "\n",
    "modeling_powerlaw_data['Drainage area (square km)'] = np.round(modeling_powerlaw_data['Drainage area (square km)'], 2)\n",
    "modeling_powerlaw_data['Channel slope'] = np.round(modeling_powerlaw_data['Channel slope'], 2)\n",
    "modeling_powerlaw_data['Hillslope domain slope'] = np.round(modeling_powerlaw_data['Hillslope domain slope'], 2)\n",
    "modeling_powerlaw_data['Glacial retreat area (km²)'] = np.round(modeling_powerlaw_data['Glacial retreat area (km²)'], 2)\n",
    "modeling_powerlaw_data['Nonigneous fraction'] = np.round(modeling_powerlaw_data['Nonigneous fraction'], 2)\n",
    "modeling_powerlaw_data['Sediment Yield (ton/yr)'] = np.round(modeling_powerlaw_data['Sediment Yield (ton/yr)'], 2)\n",
    "modeling_powerlaw_data['Sediment Yield (ton/km²/yr)'] = np.round(modeling_powerlaw_data['Sediment Yield (ton/km²/yr)'], 2)\n",
    "modeling_powerlaw_data['Uncertainty (ton/yr)'] = np.round(modeling_powerlaw_data['Uncertainty (ton/yr)'], 2)\n",
    "modeling_powerlaw_data['Uncertainty (ton/km²/yr)'] = np.round(modeling_powerlaw_data['Uncertainty (ton/km²/yr)'], 2)"
   ]
  },
  {
   "cell_type": "code",
   "execution_count": null,
   "metadata": {},
   "outputs": [],
   "source": [
    "volumes_and_yields_per_valley['Uncertainty (1000 m³/yr)'] = np.abs(volumes_and_yields_per_valley['Annual Mass Wasted'] - volumes_and_yields_per_valley['Lower CI'])\n",
    "volumes_and_yields_per_valley['Sediment Yield (1000 m³/yr)'] = volumes_and_yields_per_valley['Annual Mass Wasted']\n",
    "volumes_and_yields_per_valley = volumes_and_yields_per_valley[volumes_and_yields_per_valley['named interval'] == 'bounding'][['Valley Name', 'Uncertainty (1000 m³/yr)', 'Sediment Yield (1000 m³/yr)']]\n",
    "volumes_and_yields_per_valley['Uncertainty (1000 m³/yr)'] = np.round(volumes_and_yields_per_valley['Uncertainty (1000 m³/yr)'], 2)\n",
    "volumes_and_yields_per_valley['Sediment Yield (1000 m³/yr)'] = np.round(volumes_and_yields_per_valley['Sediment Yield (1000 m³/yr)'], 2)\n",
    "\n",
    "volumes_and_yields_per_valley"
   ]
  },
  {
   "cell_type": "code",
   "execution_count": null,
   "metadata": {},
   "outputs": [],
   "source": [
    "modeling_powerlaw_data = modeling_powerlaw_data.merge(volumes_and_yields_per_valley, on='Valley Name')"
   ]
  },
  {
   "cell_type": "code",
   "execution_count": null,
   "metadata": {},
   "outputs": [],
   "source": [
    "modeling_powerlaw_data = modeling_powerlaw_data[[\n",
    "    'Valley Name',\n",
    "    'Drainage area (square km)',\n",
    "    'Channel slope',\n",
    "    'Hillslope domain slope',\n",
    "    'Glacial retreat area (km²)',\n",
    "    'Nonigneous fraction',\n",
    "    'Sediment Yield (1000 m³/yr)',\n",
    "    'Uncertainty (1000 m³/yr)',\n",
    "    'Sediment Yield (ton/yr)',\n",
    "    'Uncertainty (ton/yr)',\n",
    "    'Sediment Yield (ton/km²/yr)',\n",
    "    'Uncertainty (ton/km²/yr)',\n",
    "]]\n",
    "\n",
    "\n",
    "modeling_powerlaw_data"
   ]
  },
  {
   "attachments": {},
   "cell_type": "markdown",
   "metadata": {},
   "source": [
    "# Save Completed Tables"
   ]
  },
  {
   "cell_type": "code",
   "execution_count": null,
   "metadata": {},
   "outputs": [],
   "source": [
    "time_series_annualized_gross.to_csv(\"/home/elilouis/hsfm-geomorph/dem-analysis/mt_baker_mass_wasted/outputs/supplemental_tables/time_series_annualized_gross.csv\")\n",
    "time_series_cumulative.to_csv(\"/home/elilouis/hsfm-geomorph/dem-analysis/mt_baker_mass_wasted/outputs/supplemental_tables/time_series_cumulative.csv\")\n",
    "modeling_powerlaw_data.to_csv(\"/home/elilouis/hsfm-geomorph/dem-analysis/mt_baker_mass_wasted/outputs/supplemental_tables/modeling_powerlaw_data.csv\")"
   ]
  },
  {
   "cell_type": "code",
   "execution_count": null,
   "metadata": {},
   "outputs": [],
   "source": []
  },
  {
   "cell_type": "code",
   "execution_count": null,
   "metadata": {},
   "outputs": [],
   "source": []
  },
  {
   "cell_type": "code",
   "execution_count": null,
   "metadata": {},
   "outputs": [],
   "source": [
    "src = time_series_annualized_gross.groupby([\"valley\", \"type\", \"start_time\", \"end_time\"]).sum()\n",
    "\n",
    "src = src.pivot_table(\n",
    "    values=['Annual Mass Wasted',\t'uncertainty'],\n",
    "    index=['valley', 'start_time', 'end_time'],\n",
    "    columns = ['type']\n",
    ")\n",
    "\n",
    "src.columns = src.columns.to_series().str.join('_')\n"
   ]
  },
  {
   "cell_type": "code",
   "execution_count": null,
   "metadata": {},
   "outputs": [],
   "source": [
    "src['sediment yield'] = -src['Annual Mass Wasted_negative'] - src['Annual Mass Wasted_positive']\n",
    "src['sediment delivery ratio'] = src['sediment yield']/-src['Annual Mass Wasted_negative']\n",
    "\n",
    "src = src.reset_index()"
   ]
  },
  {
   "cell_type": "code",
   "execution_count": null,
   "metadata": {},
   "outputs": [],
   "source": [
    "src['start_time'] = pd.to_datetime(src.reset_index().start_time)\n",
    "src['end_time'] = pd.to_datetime(src.reset_index().end_time)"
   ]
  },
  {
   "cell_type": "code",
   "execution_count": null,
   "metadata": {},
   "outputs": [],
   "source": [
    "src['sediment delivery ratio'] = np.round(src['sediment delivery ratio'],2)"
   ]
  },
  {
   "cell_type": "code",
   "execution_count": null,
   "metadata": {},
   "outputs": [],
   "source": [
    "src"
   ]
  },
  {
   "cell_type": "code",
   "execution_count": null,
   "metadata": {},
   "outputs": [],
   "source": [
    "import altair as alt"
   ]
  },
  {
   "cell_type": "code",
   "execution_count": null,
   "metadata": {},
   "outputs": [],
   "source": [
    "alt.Chart(src).mark_bar().encode(\n",
    "    alt.X(\"start_time:T\"),\n",
    "    alt.X2(\"end_time:T\"),\n",
    "    alt.Y(\"sediment delivery ratio:Q\")\n",
    ").facet(\"valley:N\")"
   ]
  },
  {
   "cell_type": "code",
   "execution_count": null,
   "metadata": {},
   "outputs": [],
   "source": [
    "src['net'] = -(src['Annual Mass Wasted_negative'] + src['Annual Mass Wasted_positive'])"
   ]
  },
  {
   "cell_type": "code",
   "execution_count": null,
   "metadata": {},
   "outputs": [],
   "source": [
    "src['Measurement period'] = ((src['start_time'] + (src['end_time'] - src['start_time']) / 2).dt.year).astype(str).apply(lambda x: x[:3] + \"0's\")\n",
    "\n",
    "src['Measurement period'] = src['Measurement period'].apply({\n",
    "    \"1950's\": \"1947-70\",\n",
    "    \"1970's\": \"1970's\",\n",
    "    \"1980's\": \"1980's\",\n",
    "    \"2000's\": \"1990-2015\"\n",
    "}.get)"
   ]
  },
  {
   "cell_type": "code",
   "execution_count": null,
   "metadata": {},
   "outputs": [],
   "source": [
    "src.sort_values('sediment delivery ratio')[['valley', 'start_time', 'end_time', 'sediment delivery ratio', 'net']]"
   ]
  },
  {
   "cell_type": "code",
   "execution_count": null,
   "metadata": {},
   "outputs": [],
   "source": [
    "net_erosion_data = src.sort_values('sediment delivery ratio')[['valley', 'start_time', 'end_time', 'sediment delivery ratio', 'net']].query(\"net > 0\").reset_index(drop=True)['sediment delivery ratio']"
   ]
  },
  {
   "cell_type": "code",
   "execution_count": null,
   "metadata": {},
   "outputs": [],
   "source": [
    "net_erosion_data"
   ]
  },
  {
   "cell_type": "code",
   "execution_count": null,
   "metadata": {},
   "outputs": [],
   "source": [
    "net_erosion_data.mean(), net_erosion_data.median()"
   ]
  },
  {
   "cell_type": "code",
   "execution_count": null,
   "metadata": {},
   "outputs": [],
   "source": [
    "alt.Chart(src).mark_point(size=50).encode(\n",
    "    alt.X(\"net:Q\", title ='Net Volumetric Change (10³ m³/yr)'),\n",
    "    alt.Y(\"sediment delivery ratio:Q\", title=['RSI', '(relative sediment balance index)']),\n",
    "    alt.Shape(\"valley:N\", title='Valley Name'),\n",
    "    alt.Color(\"Measurement period:N\", title=['Measurement', 'Period'])\n",
    ").properties(width=200, height=200).configure_legend(\n",
    "    titleFontSize=14, labelFontSize=14, orient='right'\n",
    ").configure_axis(\n",
    "    labelFontSize=14, titleFontSize=14\n",
    ")"
   ]
  },
  {
   "cell_type": "code",
   "execution_count": null,
   "metadata": {},
   "outputs": [],
   "source": []
  }
 ],
 "metadata": {
  "kernelspec": {
   "display_name": "hsfm",
   "language": "python",
   "name": "python3"
  },
  "language_info": {
   "codemirror_mode": {
    "name": "ipython",
    "version": 3
   },
   "file_extension": ".py",
   "mimetype": "text/x-python",
   "name": "python",
   "nbconvert_exporter": "python",
   "pygments_lexer": "ipython3",
   "version": "3.9.16"
  },
  "orig_nbformat": 4
 },
 "nbformat": 4,
 "nbformat_minor": 2
}
